{
 "cells": [
  {
   "cell_type": "code",
   "execution_count": 17,
   "id": "2971dee5-0358-4755-b7df-b6c961311603",
   "metadata": {},
   "outputs": [],
   "source": [
    "import pandas as pd\n",
    "pd.set_option('display.max_rows', 500)\n",
    "pd.set_option('display.max_columns', 500)\n",
    "pd.set_option('display.width', 1000)\n",
    "import matplotlib.pyplot as plt\n"
   ]
  },
  {
   "cell_type": "code",
   "execution_count": 4,
   "id": "0450e649-0a5b-4279-8e5d-eb4f97e6a683",
   "metadata": {},
   "outputs": [],
   "source": [
    "b=pd.read_csv('biopsy.csv')\n",
    "d=pd.read_csv('diagnosis.csv')"
   ]
  },
  {
   "cell_type": "code",
   "execution_count": 21,
   "id": "bd8492d0-1411-4b20-86c6-4f3dc380caa9",
   "metadata": {},
   "outputs": [
    {
     "data": {
      "text/plain": [
       "(852, 8)"
      ]
     },
     "execution_count": 21,
     "metadata": {},
     "output_type": "execute_result"
    }
   ],
   "source": [
    "data=pd.concat([d,b])\n",
    "data.columns=[name.replace('Reference Event-','') for name in data.columns]\n",
    "data.shape"
   ]
  },
  {
   "cell_type": "code",
   "execution_count": 23,
   "id": "0dc4200a-1046-4646-ba73-2d2dc2e3535c",
   "metadata": {},
   "outputs": [
    {
     "data": {
      "image/png": "[encoded data removed]",
      "text/plain": [
       "<Figure size 432x288 with 1 Axes>"
      ]
     },
     "metadata": {
      "needs_background": "light"
     },
     "output_type": "display_data"
    }
   ],
   "source": [
    "data['Age When Documented'].hist()\n",
    "plt.title('Age Histogram')\n",
    "plt.show()"
   ]
  },
  {
   "cell_type": "code",
   "execution_count": 20,
   "id": "cc76d57f-b958-43cf-8610-9fced123ede7",
   "metadata": {},
   "outputs": [
    {
     "data": {
      "text/plain": [
       "(49, 8)"
      ]
     },
     "execution_count": 20,
     "metadata": {},
     "output_type": "execute_result"
    }
   ],
   "source": [
    "data.loc[data['Age When Documented']<18].shape"
   ]
  },
  {
   "cell_type": "code",
   "execution_count": null,
   "id": "c0ac0c23-0cd5-4bc8-841e-95fa60327255",
   "metadata": {},
   "outputs": [],
   "source": []
  }
 ],
 "metadata": {
  "kernelspec": {
   "display_name": "Python 3 (ipykernel)",
   "language": "python",
   "name": "python3"
  },
  "language_info": {
   "codemirror_mode": {
    "name": "ipython",
    "version": 3
   },
   "file_extension": ".py",
   "mimetype": "text/x-python",
   "name": "python",
   "nbconvert_exporter": "python",
   "pygments_lexer": "ipython3",
   "version": "3.8.12"
  }
 },
 "nbformat": 4,
 "nbformat_minor": 5
}
