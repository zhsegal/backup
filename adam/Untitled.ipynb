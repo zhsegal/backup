{
 "cells": [
  {
   "cell_type": "code",
   "execution_count": 8,
   "id": "460aba82-36f0-4d24-93b7-baf8da2c497a",
   "metadata": {},
   "outputs": [],
   "source": [
    "import pandas as pd\n",
    "from scipy import stats\n"
   ]
  },
  {
   "cell_type": "code",
   "execution_count": 6,
   "id": "3960f4a9-2e8c-4655-9336-a0c93730dff2",
   "metadata": {},
   "outputs": [],
   "source": [
    "data=pd.read_csv('adam.csv')"
   ]
  },
  {
   "cell_type": "code",
   "execution_count": 15,
   "id": "316a5d92-76e9-45db-8bb5-a3e5e734fce0",
   "metadata": {},
   "outputs": [
    {
     "name": "stdout",
     "output_type": "stream",
     "text": [
      "EOS vs. Age: pearson coef=0.2951 pval=0.22\n",
      "EOS vs. ONSET: pearson coef=-0.4061 pval=0.0845\n",
      "IgE vs. Age: pearson coef=0.1638 pval=0.5028\n",
      "IgE vs. ONSET: pearson coef=-0.1523 pval=0.5337\n"
     ]
    }
   ],
   "source": [
    "for vara in ['EOS', 'IgE']:\n",
    "    for varb in ['Age', 'ONSET']:\n",
    "        coef, pval=stats.pearsonr(data[vara], data[varb])\n",
    "        print (f'{vara} vs. {varb}: pearson coef={coef.round(4)} pval={pval.round(4)}')"
   ]
  },
  {
   "cell_type": "code",
   "execution_count": 16,
   "id": "09fd9cc3-ff7c-4156-ab66-1993639d045a",
   "metadata": {},
   "outputs": [],
   "source": [
    "import numpy as np\n",
    "from scipy import stats\n",
    "\n",
    "def pearsonr_ci(x,y,alpha=0.05):\n",
    "    ''' calculate Pearson correlation along with the confidence interval using scipy and numpy\n",
    "    Parameters\n",
    "    ----------\n",
    "    x, y : iterable object such as a list or np.array\n",
    "      Input for correlation calculation\n",
    "    alpha : float\n",
    "      Significance level. 0.05 by default\n",
    "    Returns\n",
    "    -------\n",
    "    r : float\n",
    "      Pearson's correlation coefficient\n",
    "    pval : float\n",
    "      The corresponding p value\n",
    "    lo, hi : float\n",
    "      The lower and upper bound of confidence intervals\n",
    "    '''\n",
    "\n",
    "    r, p = stats.pearsonr(x,y)\n",
    "    r_z = np.arctanh(r)\n",
    "    se = 1/np.sqrt(x.size-3)\n",
    "    z = stats.norm.ppf(1-alpha/2)\n",
    "    lo_z, hi_z = r_z-z*se, r_z+z*se\n",
    "    lo, hi = np.tanh((lo_z, hi_z))\n",
    "    return r, p, lo, hi"
   ]
  },
  {
   "cell_type": "code",
   "execution_count": 20,
   "id": "17a866e1-9ec0-4dae-a228-fdb8ebe437f8",
   "metadata": {},
   "outputs": [
    {
     "name": "stdout",
     "output_type": "stream",
     "text": [
      "EOS vs. Age: pearson coef=0.2951 pval=0.22 CI: [-0.1837-0.6607]\n",
      "EOS vs. ONSET: pearson coef=-0.4061 pval=0.0845 CI: [-0.7263-0.059]\n",
      "IgE vs. Age: pearson coef=0.1638 pval=0.5028 CI: [-0.3137-0.5752]\n",
      "IgE vs. ONSET: pearson coef=-0.1523 pval=0.5337 CI: [-0.5673-0.3244]\n"
     ]
    }
   ],
   "source": [
    "for vara in ['EOS', 'IgE']:\n",
    "    for varb in ['Age', 'ONSET']:\n",
    "        coef, pval,low,high=pearsonr_ci(data[vara], data[varb])\n",
    "        print (f'{vara} vs. {varb}: pearson coef={coef.round(4)} pval={pval.round(4)} CI: [{low.round(4)}-{high.round(4)}]')"
   ]
  },
  {
   "cell_type": "code",
   "execution_count": null,
   "id": "37103095-db21-497d-b0d4-9763bbb01869",
   "metadata": {},
   "outputs": [],
   "source": []
  }
 ],
 "metadata": {
  "kernelspec": {
   "display_name": "Python 3 (ipykernel)",
   "language": "python",
   "name": "python3"
  },
  "language_info": {
   "codemirror_mode": {
    "name": "ipython",
    "version": 3
   },
   "file_extension": ".py",
   "mimetype": "text/x-python",
   "name": "python",
   "nbconvert_exporter": "python",
   "pygments_lexer": "ipython3",
   "version": "3.8.12"
  }
 },
 "nbformat": 4,
 "nbformat_minor": 5
}
