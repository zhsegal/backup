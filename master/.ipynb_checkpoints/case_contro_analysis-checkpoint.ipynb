{
 "cells": [
  {
   "cell_type": "code",
   "execution_count": 121,
   "id": "3c246dee-36b6-4442-826a-900aeb35febe",
   "metadata": {},
   "outputs": [],
   "source": [
    "import pandas as pd\n",
    "pd.set_option('display.max_rows', 500)\n",
    "pd.set_option('display.max_columns', 500)\n",
    "pd.set_option('display.width', 1000)\n",
    "import numpy as np\n",
    "from scipy.special import logit,expit\n",
    "from statsmodels.discrete.conditional_models import ConditionalLogit\n",
    "from sklearn.metrics import roc_auc_score"
   ]
  },
  {
   "cell_type": "code",
   "execution_count": 82,
   "id": "8353dcc2-5921-4362-a7a7-d8ff446ae298",
   "metadata": {},
   "outputs": [
    {
     "name": "stderr",
     "output_type": "stream",
     "text": [
      "C:\\Users\\577C~1\\AppData\\Local\\Temp/ipykernel_4976/555174309.py:11: SettingWithCopyWarning: \n",
      "A value is trying to be set on a copy of a slice from a DataFrame\n",
      "\n",
      "See the caveats in the documentation: https://pandas.pydata.org/pandas-docs/stable/user_guide/indexing.html#returning-a-view-versus-a-copy\n",
      "  data['var0'][data.id<20]=data['var0'][data.id<20]+1\n",
      "C:\\Users\\577C~1\\AppData\\Local\\Temp/ipykernel_4976/555174309.py:12: SettingWithCopyWarning: \n",
      "A value is trying to be set on a copy of a slice from a DataFrame\n",
      "\n",
      "See the caveats in the documentation: https://pandas.pydata.org/pandas-docs/stable/user_guide/indexing.html#returning-a-view-versus-a-copy\n",
      "  data['var1'][data.id<20]=data['var1'][data.id<20]-1\n"
     ]
    },
    {
     "data": {
      "text/html": [
       "<div>\n",
       "<style scoped>\n",
       "    .dataframe tbody tr th:only-of-type {\n",
       "        vertical-align: middle;\n",
       "    }\n",
       "\n",
       "    .dataframe tbody tr th {\n",
       "        vertical-align: top;\n",
       "    }\n",
       "\n",
       "    .dataframe thead th {\n",
       "        text-align: right;\n",
       "    }\n",
       "</style>\n",
       "<table border=\"1\" class=\"dataframe\">\n",
       "  <thead>\n",
       "    <tr style=\"text-align: right;\">\n",
       "      <th></th>\n",
       "      <th>var0</th>\n",
       "      <th>var1</th>\n",
       "      <th>var2</th>\n",
       "      <th>var3</th>\n",
       "      <th>id</th>\n",
       "      <th>prob</th>\n",
       "      <th>target</th>\n",
       "    </tr>\n",
       "  </thead>\n",
       "  <tbody>\n",
       "    <tr>\n",
       "      <th>0</th>\n",
       "      <td>-0.970782</td>\n",
       "      <td>1.580544</td>\n",
       "      <td>-2.037717</td>\n",
       "      <td>4.642658</td>\n",
       "      <td>0</td>\n",
       "      <td>0.477787</td>\n",
       "      <td>0</td>\n",
       "    </tr>\n",
       "    <tr>\n",
       "      <th>1</th>\n",
       "      <td>5.210722</td>\n",
       "      <td>3.506797</td>\n",
       "      <td>-5.325461</td>\n",
       "      <td>5.743878</td>\n",
       "      <td>1</td>\n",
       "      <td>0.999964</td>\n",
       "      <td>1</td>\n",
       "    </tr>\n",
       "    <tr>\n",
       "      <th>2</th>\n",
       "      <td>3.640756</td>\n",
       "      <td>1.688731</td>\n",
       "      <td>-7.985228</td>\n",
       "      <td>3.602804</td>\n",
       "      <td>2</td>\n",
       "      <td>0.998975</td>\n",
       "      <td>1</td>\n",
       "    </tr>\n",
       "    <tr>\n",
       "      <th>3</th>\n",
       "      <td>2.736230</td>\n",
       "      <td>0.466885</td>\n",
       "      <td>-3.140450</td>\n",
       "      <td>5.916439</td>\n",
       "      <td>3</td>\n",
       "      <td>0.992294</td>\n",
       "      <td>1</td>\n",
       "    </tr>\n",
       "    <tr>\n",
       "      <th>4</th>\n",
       "      <td>0.227392</td>\n",
       "      <td>4.054030</td>\n",
       "      <td>-5.292691</td>\n",
       "      <td>3.064400</td>\n",
       "      <td>4</td>\n",
       "      <td>0.955448</td>\n",
       "      <td>1</td>\n",
       "    </tr>\n",
       "    <tr>\n",
       "      <th>5</th>\n",
       "      <td>2.789284</td>\n",
       "      <td>3.345770</td>\n",
       "      <td>-0.870301</td>\n",
       "      <td>5.146401</td>\n",
       "      <td>5</td>\n",
       "      <td>0.998533</td>\n",
       "      <td>1</td>\n",
       "    </tr>\n",
       "    <tr>\n",
       "      <th>6</th>\n",
       "      <td>5.956529</td>\n",
       "      <td>4.578399</td>\n",
       "      <td>-1.368286</td>\n",
       "      <td>4.963454</td>\n",
       "      <td>6</td>\n",
       "      <td>0.999994</td>\n",
       "      <td>1</td>\n",
       "    </tr>\n",
       "    <tr>\n",
       "      <th>7</th>\n",
       "      <td>0.241093</td>\n",
       "      <td>2.495278</td>\n",
       "      <td>-14.560147</td>\n",
       "      <td>6.124157</td>\n",
       "      <td>7</td>\n",
       "      <td>0.901985</td>\n",
       "      <td>1</td>\n",
       "    </tr>\n",
       "    <tr>\n",
       "      <th>8</th>\n",
       "      <td>2.556234</td>\n",
       "      <td>2.182768</td>\n",
       "      <td>-2.156642</td>\n",
       "      <td>5.716697</td>\n",
       "      <td>8</td>\n",
       "      <td>0.996060</td>\n",
       "      <td>1</td>\n",
       "    </tr>\n",
       "    <tr>\n",
       "      <th>9</th>\n",
       "      <td>-2.077912</td>\n",
       "      <td>1.948968</td>\n",
       "      <td>-3.649326</td>\n",
       "      <td>4.597843</td>\n",
       "      <td>9</td>\n",
       "      <td>0.175291</td>\n",
       "      <td>0</td>\n",
       "    </tr>\n",
       "  </tbody>\n",
       "</table>\n",
       "</div>"
      ],
      "text/plain": [
       "       var0      var1       var2      var3  id      prob  target\n",
       "0 -0.970782  1.580544  -2.037717  4.642658   0  0.477787       0\n",
       "1  5.210722  3.506797  -5.325461  5.743878   1  0.999964       1\n",
       "2  3.640756  1.688731  -7.985228  3.602804   2  0.998975       1\n",
       "3  2.736230  0.466885  -3.140450  5.916439   3  0.992294       1\n",
       "4  0.227392  4.054030  -5.292691  3.064400   4  0.955448       1\n",
       "5  2.789284  3.345770  -0.870301  5.146401   5  0.998533       1\n",
       "6  5.956529  4.578399  -1.368286  4.963454   6  0.999994       1\n",
       "7  0.241093  2.495278 -14.560147  6.124157   7  0.901985       1\n",
       "8  2.556234  2.182768  -2.156642  5.716697   8  0.996060       1\n",
       "9 -2.077912  1.948968  -3.649326  4.597843   9  0.175291       0"
      ]
     },
     "execution_count": 82,
     "metadata": {},
     "output_type": "execute_result"
    }
   ],
   "source": [
    "nrows=150\n",
    "# data=pd.read_csv('sim_data.csv',nrows=nrows)\n",
    "data=pd.DataFrame({'var0':np.random.normal(loc=0,scale=2, size=nrows),\n",
    "                   'var1':np.random.normal(loc=3,scale=1, size=nrows),\n",
    "                   'var2':np.random.normal(loc=-2,scale=3, size=nrows),\n",
    "                   'var3':np.random.normal(loc=5,scale=1, size=nrows),\n",
    "                   \n",
    "                  })\n",
    "\n",
    "data['id']=(list(range(50))*3)\n",
    "data['var0'][data.id<20]=data['var0'][data.id<20]+1\n",
    "data['var1'][data.id<20]=data['var1'][data.id<20]-1\n",
    "\n",
    "\n",
    "data['prob']=expit(1.5*data.var0+0.55*data.var1+0.001*data.var2+0.5)\n",
    "data['target']=np.where(data.prob>0.5,1,0)\n",
    "\n",
    "\n",
    "data[:10]"
   ]
  },
  {
   "cell_type": "code",
   "execution_count": 83,
   "id": "0012462c-9bc8-4e8f-b869-e4b573213e33",
   "metadata": {},
   "outputs": [
    {
     "name": "stderr",
     "output_type": "stream",
     "text": [
      "C:\\JupyterLab\\resources\\jlab_server\\lib\\site-packages\\statsmodels\\discrete\\conditional_models.py:80: UserWarning: Dropped 25 groups and 75 observations for having no within-group variance\n",
      "  warnings.warn(msg)\n"
     ]
    }
   ],
   "source": [
    "m = ConditionalLogit(endog=data.target, exog=data[['var0','var1','var2']], groups=data.id)\n",
    "r = m.fit()"
   ]
  },
  {
   "cell_type": "code",
   "execution_count": 84,
   "id": "5a583ba6-d8b4-4e1a-add5-b62e2e27b5ae",
   "metadata": {},
   "outputs": [
    {
     "data": {
      "text/html": [
       "<table class=\"simpletable\">\n",
       "<caption>Conditional Logit Model Regression Results</caption>\n",
       "<tr>\n",
       "  <th>Dep. Variable:</th>       <td>target</td>      <th>  No. Observations:  </th> <td>    75</td>\n",
       "</tr>\n",
       "<tr>\n",
       "  <th>Model:</th>          <td>ConditionalLogit</td> <th>  No. groups:        </th>   <td>25</td>  \n",
       "</tr>\n",
       "<tr>\n",
       "  <th>Log-Likelihood:</th>    <td>-0.0020467</td>    <th>  Min group size:    </th>    <td>3</td>  \n",
       "</tr>\n",
       "<tr>\n",
       "  <th>Method:</th>               <td>BFGS</td>       <th>  Max group size:    </th>    <td>3</td>  \n",
       "</tr>\n",
       "<tr>\n",
       "  <th>Date:</th>           <td>Sat, 15 Oct 2022</td> <th>  Mean group size:   </th>   <td>3.0</td> \n",
       "</tr>\n",
       "<tr>\n",
       "  <th>Time:</th>               <td>10:30:56</td>     <th>                     </th>    <td> </td>  \n",
       "</tr>\n",
       "</table>\n",
       "<table class=\"simpletable\">\n",
       "<tr>\n",
       "    <td></td>      <th>coef</th>     <th>std err</th>      <th>z</th>      <th>P>|z|</th>  <th>[0.025</th>    <th>0.975]</th>  \n",
       "</tr>\n",
       "<tr>\n",
       "  <th>var0</th> <td>   15.3654</td> <td>  231.761</td> <td>    0.066</td> <td> 0.947</td> <td> -438.877</td> <td>  469.608</td>\n",
       "</tr>\n",
       "<tr>\n",
       "  <th>var1</th> <td>    5.1832</td> <td>  110.568</td> <td>    0.047</td> <td> 0.963</td> <td> -211.526</td> <td>  221.893</td>\n",
       "</tr>\n",
       "<tr>\n",
       "  <th>var2</th> <td>    0.3252</td> <td>   42.183</td> <td>    0.008</td> <td> 0.994</td> <td>  -82.352</td> <td>   83.002</td>\n",
       "</tr>\n",
       "</table>"
      ],
      "text/plain": [
       "<class 'statsmodels.iolib.summary.Summary'>\n",
       "\"\"\"\n",
       "                  Conditional Logit Model Regression Results                  \n",
       "==============================================================================\n",
       "Dep. Variable:                 target   No. Observations:                   75\n",
       "Model:               ConditionalLogit   No. groups:                         25\n",
       "Log-Likelihood:            -0.0020467   Min group size:                      3\n",
       "Method:                          BFGS   Max group size:                      3\n",
       "Date:                Sat, 15 Oct 2022   Mean group size:                   3.0\n",
       "Time:                        10:30:56                                         \n",
       "==============================================================================\n",
       "                 coef    std err          z      P>|z|      [0.025      0.975]\n",
       "------------------------------------------------------------------------------\n",
       "var0          15.3654    231.761      0.066      0.947    -438.877     469.608\n",
       "var1           5.1832    110.568      0.047      0.963    -211.526     221.893\n",
       "var2           0.3252     42.183      0.008      0.994     -82.352      83.002\n",
       "==============================================================================\n",
       "\"\"\""
      ]
     },
     "execution_count": 84,
     "metadata": {},
     "output_type": "execute_result"
    }
   ],
   "source": [
    "r.summary()"
   ]
  },
  {
   "cell_type": "code",
   "execution_count": 98,
   "id": "dcd5fd27-373e-453d-af79-d01bd70664a4",
   "metadata": {},
   "outputs": [
    {
     "data": {
      "text/html": [
       "<div>\n",
       "<style scoped>\n",
       "    .dataframe tbody tr th:only-of-type {\n",
       "        vertical-align: middle;\n",
       "    }\n",
       "\n",
       "    .dataframe tbody tr th {\n",
       "        vertical-align: top;\n",
       "    }\n",
       "\n",
       "    .dataframe thead th {\n",
       "        text-align: right;\n",
       "    }\n",
       "</style>\n",
       "<table border=\"1\" class=\"dataframe\">\n",
       "  <thead>\n",
       "    <tr style=\"text-align: right;\">\n",
       "      <th></th>\n",
       "      <th>var</th>\n",
       "      <th>coef</th>\n",
       "    </tr>\n",
       "  </thead>\n",
       "  <tbody>\n",
       "    <tr>\n",
       "      <th>0</th>\n",
       "      <td>var0</td>\n",
       "      <td>15.365351</td>\n",
       "    </tr>\n",
       "    <tr>\n",
       "      <th>1</th>\n",
       "      <td>var1</td>\n",
       "      <td>5.183227</td>\n",
       "    </tr>\n",
       "    <tr>\n",
       "      <th>2</th>\n",
       "      <td>var2</td>\n",
       "      <td>0.325194</td>\n",
       "    </tr>\n",
       "  </tbody>\n",
       "</table>\n",
       "</div>"
      ],
      "text/plain": [
       "    var       coef\n",
       "0  var0  15.365351\n",
       "1  var1   5.183227\n",
       "2  var2   0.325194"
      ]
     },
     "execution_count": 98,
     "metadata": {},
     "output_type": "execute_result"
    }
   ],
   "source": [
    "coefs=pd.DataFrame({'var':['var0','var1','var2'],\n",
    "                    'coef':r.params.values\n",
    "                   })\n",
    "\n",
    "coefs"
   ]
  },
  {
   "cell_type": "code",
   "execution_count": 99,
   "id": "eac922c0-7468-48f8-b9c3-2a3f09bf16b7",
   "metadata": {},
   "outputs": [
    {
     "data": {
      "text/plain": [
       "{'var0': 15.365350973440679,\n",
       " 'var1': 5.183227362374096,\n",
       " 'var2': 0.32519389613452326}"
      ]
     },
     "execution_count": 99,
     "metadata": {},
     "output_type": "execute_result"
    }
   ],
   "source": [
    "coef_dict=coefs.set_index('var').to_dict()['coef']\n",
    "coef_dict"
   ]
  },
  {
   "cell_type": "code",
   "execution_count": 114,
   "id": "27a00639-b3f3-463d-ab85-3be7e96f1e12",
   "metadata": {},
   "outputs": [],
   "source": [
    "x=data[['var0','var1','var2']]"
   ]
  },
  {
   "cell_type": "code",
   "execution_count": 115,
   "id": "e411eafc-92bd-4b07-9f6a-e42955c2ac49",
   "metadata": {},
   "outputs": [
    {
     "data": {
      "text/html": [
       "<div>\n",
       "<style scoped>\n",
       "    .dataframe tbody tr th:only-of-type {\n",
       "        vertical-align: middle;\n",
       "    }\n",
       "\n",
       "    .dataframe tbody tr th {\n",
       "        vertical-align: top;\n",
       "    }\n",
       "\n",
       "    .dataframe thead th {\n",
       "        text-align: right;\n",
       "    }\n",
       "</style>\n",
       "<table border=\"1\" class=\"dataframe\">\n",
       "  <thead>\n",
       "    <tr style=\"text-align: right;\">\n",
       "      <th></th>\n",
       "      <th>var0</th>\n",
       "      <th>var1</th>\n",
       "      <th>var2</th>\n",
       "    </tr>\n",
       "  </thead>\n",
       "  <tbody>\n",
       "    <tr>\n",
       "      <th>0</th>\n",
       "      <td>-0.970782</td>\n",
       "      <td>1.580544</td>\n",
       "      <td>-2.037717</td>\n",
       "    </tr>\n",
       "    <tr>\n",
       "      <th>1</th>\n",
       "      <td>5.210722</td>\n",
       "      <td>3.506797</td>\n",
       "      <td>-5.325461</td>\n",
       "    </tr>\n",
       "    <tr>\n",
       "      <th>2</th>\n",
       "      <td>3.640756</td>\n",
       "      <td>1.688731</td>\n",
       "      <td>-7.985228</td>\n",
       "    </tr>\n",
       "    <tr>\n",
       "      <th>3</th>\n",
       "      <td>2.736230</td>\n",
       "      <td>0.466885</td>\n",
       "      <td>-3.140450</td>\n",
       "    </tr>\n",
       "    <tr>\n",
       "      <th>4</th>\n",
       "      <td>0.227392</td>\n",
       "      <td>4.054030</td>\n",
       "      <td>-5.292691</td>\n",
       "    </tr>\n",
       "  </tbody>\n",
       "</table>\n",
       "</div>"
      ],
      "text/plain": [
       "       var0      var1      var2\n",
       "0 -0.970782  1.580544 -2.037717\n",
       "1  5.210722  3.506797 -5.325461\n",
       "2  3.640756  1.688731 -7.985228\n",
       "3  2.736230  0.466885 -3.140450\n",
       "4  0.227392  4.054030 -5.292691"
      ]
     },
     "execution_count": 115,
     "metadata": {},
     "output_type": "execute_result"
    }
   ],
   "source": [
    "x.head()"
   ]
  },
  {
   "cell_type": "code",
   "execution_count": 122,
   "id": "bd013c5d-e60f-48f8-94f3-069c5ce57e7f",
   "metadata": {},
   "outputs": [
    {
     "data": {
      "text/html": [
       "<div>\n",
       "<style scoped>\n",
       "    .dataframe tbody tr th:only-of-type {\n",
       "        vertical-align: middle;\n",
       "    }\n",
       "\n",
       "    .dataframe tbody tr th {\n",
       "        vertical-align: top;\n",
       "    }\n",
       "\n",
       "    .dataframe thead th {\n",
       "        text-align: right;\n",
       "    }\n",
       "</style>\n",
       "<table border=\"1\" class=\"dataframe\">\n",
       "  <thead>\n",
       "    <tr style=\"text-align: right;\">\n",
       "      <th></th>\n",
       "      <th>var0</th>\n",
       "      <th>var1</th>\n",
       "      <th>var2</th>\n",
       "      <th>pediction</th>\n",
       "      <th>proba</th>\n",
       "      <th>target</th>\n",
       "      <th>pred</th>\n",
       "    </tr>\n",
       "  </thead>\n",
       "  <tbody>\n",
       "    <tr>\n",
       "      <th>0</th>\n",
       "      <td>-0.970782</td>\n",
       "      <td>1.580544</td>\n",
       "      <td>-2.037717</td>\n",
       "      <td>-7.386739</td>\n",
       "      <td>0.000619</td>\n",
       "      <td>0</td>\n",
       "      <td>0</td>\n",
       "    </tr>\n",
       "    <tr>\n",
       "      <th>1</th>\n",
       "      <td>5.210722</td>\n",
       "      <td>3.506797</td>\n",
       "      <td>-5.325461</td>\n",
       "      <td>96.509290</td>\n",
       "      <td>1.000000</td>\n",
       "      <td>1</td>\n",
       "      <td>1</td>\n",
       "    </tr>\n",
       "    <tr>\n",
       "      <th>2</th>\n",
       "      <td>3.640756</td>\n",
       "      <td>1.688731</td>\n",
       "      <td>-7.985228</td>\n",
       "      <td>62.097820</td>\n",
       "      <td>1.000000</td>\n",
       "      <td>1</td>\n",
       "      <td>1</td>\n",
       "    </tr>\n",
       "  </tbody>\n",
       "</table>\n",
       "</div>"
      ],
      "text/plain": [
       "       var0      var1      var2  pediction     proba  target  pred\n",
       "0 -0.970782  1.580544 -2.037717  -7.386739  0.000619       0     0\n",
       "1  5.210722  3.506797 -5.325461  96.509290  1.000000       1     1\n",
       "2  3.640756  1.688731 -7.985228  62.097820  1.000000       1     1"
      ]
     },
     "execution_count": 122,
     "metadata": {},
     "output_type": "execute_result"
    }
   ],
   "source": [
    "predection_matrix=x.assign(pediction=x.assign(**coef_dict).mul(x).sum(axis=1))\n",
    "predection_matrix['proba']=expit(predection_matrix.pediction)\n",
    "predection_matrix['target']=data.target\n",
    "predection_matrix['pred']=np.where(predection_matrix.proba>0.5,1,0)\n",
    "predection_matrix[:3]"
   ]
  },
  {
   "cell_type": "code",
   "execution_count": 123,
   "id": "2b83c336-3824-4c00-bde2-e00f5a1bb7e8",
   "metadata": {},
   "outputs": [
    {
     "data": {
      "text/plain": [
       "0.9579831932773109"
      ]
     },
     "execution_count": 123,
     "metadata": {},
     "output_type": "execute_result"
    }
   ],
   "source": [
    "roc_auc_score(predection_matrix.target,predection_matrix.pred)"
   ]
  },
  {
   "cell_type": "code",
   "execution_count": null,
   "id": "77f20a4c-d2f7-498e-beeb-67862b479595",
   "metadata": {},
   "outputs": [],
   "source": []
  }
 ],
 "metadata": {
  "kernelspec": {
   "display_name": "Python 3 (ipykernel)",
   "language": "python",
   "name": "python3"
  },
  "language_info": {
   "codemirror_mode": {
    "name": "ipython",
    "version": 3
   },
   "file_extension": ".py",
   "mimetype": "text/x-python",
   "name": "python",
   "nbconvert_exporter": "python",
   "pygments_lexer": "ipython3",
   "version": "3.8.12"
  }
 },
 "nbformat": 4,
 "nbformat_minor": 5
}
