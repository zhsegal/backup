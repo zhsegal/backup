{
 "cells": [
  {
   "cell_type": "code",
   "execution_count": 36,
   "id": "e8634b54-dc13-4221-9c25-0dd94f90a38c",
   "metadata": {},
   "outputs": [],
   "source": [
    "import pandas as pd\n",
    "pd.set_option('display.max_rows', 500)\n",
    "pd.set_option('display.max_columns', 500)\n",
    "pd.set_option('display.width', 1000)\n",
    "import matplotlib.pyplot as plt\n",
    "import numpy as np\n",
    "from sklearn.cross_decomposition import CCA\n"
   ]
  },
  {
   "cell_type": "code",
   "execution_count": 109,
   "id": "db8f469e-93c4-4eac-8d14-a5001fb6a029",
   "metadata": {},
   "outputs": [],
   "source": [
    "crea=pd.read_csv('crea.csv')\n",
    "crea.set_index('id', drop=True, inplace=True)\n",
    "ages=pd.read_csv('ages.csv')\n",
    "ages.set_index('id', drop=True, inplace=True)\n",
    "crea.dropna(thresh=10, axis=0, inplace=True)\n",
    "ages.dropna(thresh=10, axis=0, inplace=True)"
   ]
  },
  {
   "cell_type": "code",
   "execution_count": null,
   "id": "1e82bd74-bcd2-45c5-aab0-821c7557d5b1",
   "metadata": {},
   "outputs": [],
   "source": []
  },
  {
   "cell_type": "code",
   "execution_count": 110,
   "id": "a0a9cf38-cd8f-4b38-9742-d715ee0b3b0d",
   "metadata": {},
   "outputs": [],
   "source": [
    "num_months=10\n",
    "\n",
    "crea_last=pd.DataFrame(columns=range(num_months), index=crea.index)\n",
    "\n",
    "\n",
    "for i, pat in enumerate(crea.index):\n",
    "    vals=crea.loc[pat].dropna()[-num_months:]\n",
    "    crea_last.iloc[i,0:num_months]=vals\n"
   ]
  },
  {
   "cell_type": "code",
   "execution_count": 111,
   "id": "74585b6a-33dd-4bcd-9b77-d3095bb5c9e9",
   "metadata": {},
   "outputs": [],
   "source": [
    "ages_last=pd.DataFrame(columns=range(num_months), index=ages.index)\n",
    "\n",
    "\n",
    "for i, pat in enumerate(ages.index):\n",
    "    vals=ages.loc[pat].dropna()[-num_months:]\n",
    "    ages_last.iloc[i,0:num_months]=vals"
   ]
  },
  {
   "cell_type": "code",
   "execution_count": 113,
   "id": "cd83703d-3cfc-4e10-a97b-f32053c73175",
   "metadata": {},
   "outputs": [],
   "source": [
    "cca = CCA(n_components=4)"
   ]
  },
  {
   "cell_type": "code",
   "execution_count": 114,
   "id": "93e61512-eb47-4553-9461-d2ab2725e6f0",
   "metadata": {},
   "outputs": [
    {
     "name": "stderr",
     "output_type": "stream",
     "text": [
      "C:\\JupyterLab\\resources\\jlab_server\\lib\\site-packages\\sklearn\\cross_decomposition\\_pls.py:305: UserWarning: Y residual is constant at iteration 1\n",
      "  warnings.warn(f\"Y residual is constant at iteration {k}\")\n"
     ]
    },
    {
     "data": {
      "text/plain": [
       "CCA(n_components=4)"
      ]
     },
     "execution_count": 114,
     "metadata": {},
     "output_type": "execute_result"
    }
   ],
   "source": [
    "cca.fit(crea_last.T, ages_last.T)"
   ]
  },
  {
   "cell_type": "code",
   "execution_count": 119,
   "id": "42935123-fd00-401d-af4a-9342fac113d9",
   "metadata": {},
   "outputs": [
    {
     "data": {
      "text/plain": [
       "array([[-0.07709171,  0.        ,  0.        ,  0.        ],\n",
       "       [-0.17991518,  0.        ,  0.        ,  0.        ],\n",
       "       [-0.03025736,  0.        ,  0.        ,  0.        ],\n",
       "       [ 0.12809477,  0.        ,  0.        ,  0.        ],\n",
       "       [-0.20295426,  0.        ,  0.        ,  0.        ],\n",
       "       [-0.01861849,  0.        ,  0.        ,  0.        ],\n",
       "       [-0.16998841,  0.        ,  0.        ,  0.        ],\n",
       "       [ 0.0729249 ,  0.        ,  0.        ,  0.        ],\n",
       "       [-0.05901279,  0.        ,  0.        ,  0.        ],\n",
       "       [-0.06622797,  0.        ,  0.        ,  0.        ],\n",
       "       [ 0.14869672,  0.        ,  0.        ,  0.        ],\n",
       "       [ 0.10039141,  0.        ,  0.        ,  0.        ],\n",
       "       [ 0.00384345,  0.        ,  0.        ,  0.        ],\n",
       "       [-0.0673526 ,  0.        ,  0.        ,  0.        ],\n",
       "       [-0.23993805,  0.        ,  0.        ,  0.        ],\n",
       "       [-0.10524746,  0.        ,  0.        ,  0.        ],\n",
       "       [ 0.06398953,  0.        ,  0.        ,  0.        ],\n",
       "       [-0.09583791,  0.        ,  0.        ,  0.        ],\n",
       "       [-0.05510904,  0.        ,  0.        ,  0.        ],\n",
       "       [ 0.12657746,  0.        ,  0.        ,  0.        ],\n",
       "       [-0.0311717 ,  0.        ,  0.        ,  0.        ],\n",
       "       [-0.04716372,  0.        ,  0.        ,  0.        ],\n",
       "       [ 0.0800967 ,  0.        ,  0.        ,  0.        ],\n",
       "       [-0.06062276,  0.        ,  0.        ,  0.        ],\n",
       "       [-0.12815501,  0.        ,  0.        ,  0.        ],\n",
       "       [-0.0759427 ,  0.        ,  0.        ,  0.        ],\n",
       "       [-0.05336009,  0.        ,  0.        ,  0.        ],\n",
       "       [-0.03525318,  0.        ,  0.        ,  0.        ],\n",
       "       [ 0.06630799,  0.        ,  0.        ,  0.        ],\n",
       "       [-0.00781569,  0.        ,  0.        ,  0.        ],\n",
       "       [-0.02807676,  0.        ,  0.        ,  0.        ],\n",
       "       [-0.0136273 ,  0.        ,  0.        ,  0.        ],\n",
       "       [ 0.15390999,  0.        ,  0.        ,  0.        ],\n",
       "       [ 0.17744693,  0.        ,  0.        ,  0.        ],\n",
       "       [-0.16751532,  0.        ,  0.        ,  0.        ],\n",
       "       [ 0.07673382,  0.        ,  0.        ,  0.        ],\n",
       "       [-0.10020689,  0.        ,  0.        ,  0.        ],\n",
       "       [ 0.11127865,  0.        ,  0.        ,  0.        ],\n",
       "       [ 0.01423353,  0.        ,  0.        ,  0.        ],\n",
       "       [ 0.22416327,  0.        ,  0.        ,  0.        ],\n",
       "       [-0.11307924,  0.        ,  0.        ,  0.        ],\n",
       "       [ 0.01504126,  0.        ,  0.        ,  0.        ],\n",
       "       [ 0.05016025,  0.        ,  0.        ,  0.        ],\n",
       "       [ 0.04368745,  0.        ,  0.        ,  0.        ],\n",
       "       [ 0.07588956,  0.        ,  0.        ,  0.        ],\n",
       "       [ 0.03095085,  0.        ,  0.        ,  0.        ],\n",
       "       [-0.00108557,  0.        ,  0.        ,  0.        ],\n",
       "       [-0.08227061,  0.        ,  0.        ,  0.        ],\n",
       "       [ 0.25854453,  0.        ,  0.        ,  0.        ],\n",
       "       [-0.15001874,  0.        ,  0.        ,  0.        ],\n",
       "       [-0.03339447,  0.        ,  0.        ,  0.        ],\n",
       "       [ 0.12570844,  0.        ,  0.        ,  0.        ],\n",
       "       [-0.04980204,  0.        ,  0.        ,  0.        ],\n",
       "       [ 0.15518459,  0.        ,  0.        ,  0.        ],\n",
       "       [-0.17467731,  0.        ,  0.        ,  0.        ],\n",
       "       [-0.18089814,  0.        ,  0.        ,  0.        ],\n",
       "       [ 0.19891073,  0.        ,  0.        ,  0.        ],\n",
       "       [-0.07074749,  0.        ,  0.        ,  0.        ],\n",
       "       [ 0.03271051,  0.        ,  0.        ,  0.        ],\n",
       "       [ 0.0271488 ,  0.        ,  0.        ,  0.        ],\n",
       "       [-0.00684298,  0.        ,  0.        ,  0.        ],\n",
       "       [-0.0599398 ,  0.        ,  0.        ,  0.        ],\n",
       "       [-0.15260878,  0.        ,  0.        ,  0.        ],\n",
       "       [ 0.01140846,  0.        ,  0.        ,  0.        ],\n",
       "       [-0.03683494,  0.        ,  0.        ,  0.        ],\n",
       "       [ 0.00954227,  0.        ,  0.        ,  0.        ],\n",
       "       [-0.04400242,  0.        ,  0.        ,  0.        ],\n",
       "       [ 0.04344008,  0.        ,  0.        ,  0.        ],\n",
       "       [-0.02997471,  0.        ,  0.        ,  0.        ],\n",
       "       [ 0.12716694,  0.        ,  0.        ,  0.        ],\n",
       "       [ 0.13167722,  0.        ,  0.        ,  0.        ],\n",
       "       [ 0.13869905,  0.        ,  0.        ,  0.        ],\n",
       "       [-0.04048811,  0.        ,  0.        ,  0.        ],\n",
       "       [-0.15086252,  0.        ,  0.        ,  0.        ],\n",
       "       [-0.19253207,  0.        ,  0.        ,  0.        ],\n",
       "       [ 0.0438879 ,  0.        ,  0.        ,  0.        ],\n",
       "       [ 0.15671903,  0.        ,  0.        ,  0.        ],\n",
       "       [ 0.19935567,  0.        ,  0.        ,  0.        ],\n",
       "       [ 0.02011849,  0.        ,  0.        ,  0.        ],\n",
       "       [ 0.02535604,  0.        ,  0.        ,  0.        ],\n",
       "       [-0.01475386,  0.        ,  0.        ,  0.        ],\n",
       "       [ 0.08384949,  0.        ,  0.        ,  0.        ],\n",
       "       [ 0.11786646,  0.        ,  0.        ,  0.        ],\n",
       "       [ 0.20920295,  0.        ,  0.        ,  0.        ],\n",
       "       [-0.08358304,  0.        ,  0.        ,  0.        ],\n",
       "       [ 0.14085877,  0.        ,  0.        ,  0.        ],\n",
       "       [ 0.02119717,  0.        ,  0.        ,  0.        ],\n",
       "       [-0.01934454,  0.        ,  0.        ,  0.        ],\n",
       "       [ 0.06276285,  0.        ,  0.        ,  0.        ],\n",
       "       [-0.0093325 ,  0.        ,  0.        ,  0.        ],\n",
       "       [-0.05066559,  0.        ,  0.        ,  0.        ],\n",
       "       [-0.07340071,  0.        ,  0.        ,  0.        ],\n",
       "       [-0.02173859,  0.        ,  0.        ,  0.        ],\n",
       "       [-0.07179872,  0.        ,  0.        ,  0.        ],\n",
       "       [ 0.06452677,  0.        ,  0.        ,  0.        ],\n",
       "       [ 0.0213442 ,  0.        ,  0.        ,  0.        ],\n",
       "       [-0.11882392,  0.        ,  0.        ,  0.        ]])"
      ]
     },
     "execution_count": 119,
     "metadata": {},
     "output_type": "execute_result"
    }
   ],
   "source": [
    "cca.x_loadings_"
   ]
  },
  {
   "cell_type": "code",
   "execution_count": 118,
   "id": "f2129fae-7941-4589-a06c-8340b0345ecb",
   "metadata": {},
   "outputs": [
    {
     "data": {
      "text/plain": [
       "array([[-0.01198805,  0.        ,  0.        ,  0.        ],\n",
       "       [-0.16569496,  0.        ,  0.        ,  0.        ],\n",
       "       [-0.02472421,  0.        ,  0.        ,  0.        ],\n",
       "       [ 0.08230807,  0.        ,  0.        ,  0.        ],\n",
       "       [-0.15869105,  0.        ,  0.        ,  0.        ],\n",
       "       [-0.00067195,  0.        ,  0.        ,  0.        ],\n",
       "       [-0.16445057,  0.        ,  0.        ,  0.        ],\n",
       "       [ 0.05965952,  0.        ,  0.        ,  0.        ],\n",
       "       [-0.06287082,  0.        ,  0.        ,  0.        ],\n",
       "       [-0.05625743,  0.        ,  0.        ,  0.        ],\n",
       "       [ 0.13217557,  0.        ,  0.        ,  0.        ],\n",
       "       [ 0.07207941,  0.        ,  0.        ,  0.        ],\n",
       "       [ 0.00509128,  0.        ,  0.        ,  0.        ],\n",
       "       [-0.05171425,  0.        ,  0.        ,  0.        ],\n",
       "       [-0.20669615,  0.        ,  0.        ,  0.        ],\n",
       "       [-0.04512259,  0.        ,  0.        ,  0.        ],\n",
       "       [ 0.06245191,  0.        ,  0.        ,  0.        ],\n",
       "       [-0.06382286,  0.        ,  0.        ,  0.        ],\n",
       "       [-0.03557594,  0.        ,  0.        ,  0.        ],\n",
       "       [ 0.16039379,  0.        ,  0.        ,  0.        ],\n",
       "       [-0.00125079,  0.        ,  0.        ,  0.        ],\n",
       "       [-0.08952199,  0.        ,  0.        ,  0.        ],\n",
       "       [ 0.14338548,  0.        ,  0.        ,  0.        ],\n",
       "       [-0.08236477,  0.        ,  0.        ,  0.        ],\n",
       "       [-0.17109921,  0.        ,  0.        ,  0.        ],\n",
       "       [-0.09736064,  0.        ,  0.        ,  0.        ],\n",
       "       [-0.04258841,  0.        ,  0.        ,  0.        ],\n",
       "       [ 0.01161756,  0.        ,  0.        ,  0.        ],\n",
       "       [ 0.06712718,  0.        ,  0.        ,  0.        ],\n",
       "       [-0.03199955,  0.        ,  0.        ,  0.        ],\n",
       "       [-0.02749369,  0.        ,  0.        ,  0.        ],\n",
       "       [ 0.03503988,  0.        ,  0.        ,  0.        ],\n",
       "       [ 0.13158753,  0.        ,  0.        ,  0.        ],\n",
       "       [ 0.14901857,  0.        ,  0.        ,  0.        ],\n",
       "       [-0.15447842,  0.        ,  0.        ,  0.        ],\n",
       "       [ 0.06730742,  0.        ,  0.        ,  0.        ],\n",
       "       [-0.05818905,  0.        ,  0.        ,  0.        ],\n",
       "       [ 0.16180197,  0.        ,  0.        ,  0.        ],\n",
       "       [ 0.00900333,  0.        ,  0.        ,  0.        ],\n",
       "       [ 0.23588855,  0.        ,  0.        ,  0.        ],\n",
       "       [-0.07277038,  0.        ,  0.        ,  0.        ],\n",
       "       [ 0.06654653,  0.        ,  0.        ,  0.        ],\n",
       "       [ 0.04118678,  0.        ,  0.        ,  0.        ],\n",
       "       [-0.01333599,  0.        ,  0.        ,  0.        ],\n",
       "       [ 0.0235621 ,  0.        ,  0.        ,  0.        ],\n",
       "       [-0.0056777 ,  0.        ,  0.        ,  0.        ],\n",
       "       [-0.03621221,  0.        ,  0.        ,  0.        ],\n",
       "       [-0.03607961,  0.        ,  0.        ,  0.        ],\n",
       "       [ 0.22909756,  0.        ,  0.        ,  0.        ],\n",
       "       [-0.15240465,  0.        ,  0.        ,  0.        ],\n",
       "       [ 0.0198779 ,  0.        ,  0.        ,  0.        ],\n",
       "       [ 0.10451869,  0.        ,  0.        ,  0.        ],\n",
       "       [-0.11082568,  0.        ,  0.        ,  0.        ],\n",
       "       [ 0.12248303,  0.        ,  0.        ,  0.        ],\n",
       "       [-0.21061373,  0.        ,  0.        ,  0.        ],\n",
       "       [-0.1622073 ,  0.        ,  0.        ,  0.        ],\n",
       "       [ 0.1892118 ,  0.        ,  0.        ,  0.        ],\n",
       "       [-0.02230905,  0.        ,  0.        ,  0.        ],\n",
       "       [ 0.01509836,  0.        ,  0.        ,  0.        ],\n",
       "       [-0.00924193,  0.        ,  0.        ,  0.        ],\n",
       "       [ 0.00993683,  0.        ,  0.        ,  0.        ],\n",
       "       [-0.03133367,  0.        ,  0.        ,  0.        ],\n",
       "       [-0.13371634,  0.        ,  0.        ,  0.        ],\n",
       "       [ 0.04238848,  0.        ,  0.        ,  0.        ],\n",
       "       [-0.0248644 ,  0.        ,  0.        ,  0.        ],\n",
       "       [ 0.00541815,  0.        ,  0.        ,  0.        ],\n",
       "       [-0.07042889,  0.        ,  0.        ,  0.        ],\n",
       "       [ 0.07565238,  0.        ,  0.        ,  0.        ],\n",
       "       [-0.06499071,  0.        ,  0.        ,  0.        ],\n",
       "       [ 0.08462841,  0.        ,  0.        ,  0.        ],\n",
       "       [ 0.11009645,  0.        ,  0.        ,  0.        ],\n",
       "       [ 0.13401183,  0.        ,  0.        ,  0.        ],\n",
       "       [-0.10257537,  0.        ,  0.        ,  0.        ],\n",
       "       [-0.11113497,  0.        ,  0.        ,  0.        ],\n",
       "       [-0.20678546,  0.        ,  0.        ,  0.        ],\n",
       "       [ 0.03878659,  0.        ,  0.        ,  0.        ],\n",
       "       [ 0.12137629,  0.        ,  0.        ,  0.        ],\n",
       "       [ 0.21553859,  0.        ,  0.        ,  0.        ],\n",
       "       [-0.00346199,  0.        ,  0.        ,  0.        ],\n",
       "       [ 0.04659751,  0.        ,  0.        ,  0.        ],\n",
       "       [-0.022569  ,  0.        ,  0.        ,  0.        ],\n",
       "       [ 0.07187524,  0.        ,  0.        ,  0.        ],\n",
       "       [ 0.09696285,  0.        ,  0.        ,  0.        ],\n",
       "       [ 0.16221692,  0.        ,  0.        ,  0.        ],\n",
       "       [-0.03256479,  0.        ,  0.        ,  0.        ],\n",
       "       [ 0.15779015,  0.        ,  0.        ,  0.        ],\n",
       "       [-0.0076526 ,  0.        ,  0.        ,  0.        ],\n",
       "       [-0.04700049,  0.        ,  0.        ,  0.        ],\n",
       "       [ 0.10176965,  0.        ,  0.        ,  0.        ],\n",
       "       [-0.0443044 ,  0.        ,  0.        ,  0.        ],\n",
       "       [-0.09924703,  0.        ,  0.        ,  0.        ],\n",
       "       [-0.0415851 ,  0.        ,  0.        ,  0.        ],\n",
       "       [ 0.00382635,  0.        ,  0.        ,  0.        ],\n",
       "       [-0.07953784,  0.        ,  0.        ,  0.        ],\n",
       "       [ 0.03550225,  0.        ,  0.        ,  0.        ],\n",
       "       [-0.01600777,  0.        ,  0.        ,  0.        ],\n",
       "       [-0.13566011,  0.        ,  0.        ,  0.        ]])"
      ]
     },
     "execution_count": 118,
     "metadata": {},
     "output_type": "execute_result"
    }
   ],
   "source": [
    "cca.x_weights_"
   ]
  },
  {
   "cell_type": "code",
   "execution_count": 10,
   "id": "40a58796-8485-47f8-8758-79dd164323ef",
   "metadata": {},
   "outputs": [
    {
     "data": {
      "image/png": "[encoded data removed]",
      "text/plain": [
       "<Figure size 1080x1080 with 1 Axes>"
      ]
     },
     "metadata": {
      "needs_background": "light"
     },
     "output_type": "display_data"
    }
   ],
   "source": [
    "import numpy as np\n",
    "import matplotlib.pyplot as plt\n",
    "\n",
    "# Obtain the rotation matrices\n",
    "xrot = cca.x_rotations_\n",
    "yrot = cca.y_rotations_\n",
    "\n",
    "# Put them together in a numpy matrix\n",
    "xyrot = np.vstack((xrot,yrot))\n",
    "\n",
    "nvariables = xyrot.shape[0]\n",
    "\n",
    "plt.figure(figsize=(15, 15))\n",
    "plt.xlim((-1,1))\n",
    "plt.ylim((-1,1))\n",
    "\n",
    "# Plot an arrow and a text label for each variable\n",
    "for var_i in range(nvariables):\n",
    "  x = xyrot[var_i,0]\n",
    "  y = xyrot[var_i,1]\n",
    "\n",
    "  plt.arrow(0,0,x,y)\n",
    "  # plt.text(x,y,data.columns[i], color='red' if i >= 6 else 'blue')\n",
    "\n",
    "plt.show()"
   ]
  },
  {
   "cell_type": "code",
   "execution_count": 12,
   "id": "75fd7bdf-911d-49a6-a613-a0a5452e20a9",
   "metadata": {},
   "outputs": [],
   "source": [
    "X_c, Y_c = cca.transform(data1, data2)"
   ]
  },
  {
   "cell_type": "code",
   "execution_count": 13,
   "id": "b3bd971f-1094-422e-a41e-9711ae851452",
   "metadata": {},
   "outputs": [
    {
     "data": {
      "text/plain": [
       "array([[ 0.19717248,  0.49781774,  0.0998114 , -0.22182122],\n",
       "       [-0.61471861, -0.35173495, -0.14970975, -0.26506971],\n",
       "       [ 1.30389867, -1.34259393,  0.04796588,  0.42860584],\n",
       "       ...,\n",
       "       [-2.06531314, -3.00551714,  0.28239052,  0.1414355 ],\n",
       "       [-0.74594626, -0.73752023,  0.3614437 ,  0.03124149],\n",
       "       [-0.26643477,  2.4241495 ,  0.02400494,  0.03698677]])"
      ]
     },
     "execution_count": 13,
     "metadata": {},
     "output_type": "execute_result"
    }
   ],
   "source": [
    "X_c"
   ]
  },
  {
   "cell_type": "code",
   "execution_count": 14,
   "id": "0ffee633-a628-4e56-b9d4-65e0c993c2b1",
   "metadata": {},
   "outputs": [
    {
     "data": {
      "text/plain": [
       "(1000, 4)"
      ]
     },
     "execution_count": 14,
     "metadata": {},
     "output_type": "execute_result"
    }
   ],
   "source": [
    "X_c.shape"
   ]
  },
  {
   "cell_type": "code",
   "execution_count": 15,
   "id": "7e0ec0f7-2467-4c50-994f-0290a4ed487f",
   "metadata": {},
   "outputs": [
    {
     "data": {
      "text/plain": [
       "{'copy': True, 'max_iter': 500, 'n_components': 4, 'scale': True, 'tol': 1e-06}"
      ]
     },
     "execution_count": 15,
     "metadata": {},
     "output_type": "execute_result"
    }
   ],
   "source": [
    "cca.get_params()"
   ]
  },
  {
   "cell_type": "code",
   "execution_count": null,
   "id": "2f423b2a-492e-4a72-a760-59dc93f8519b",
   "metadata": {},
   "outputs": [],
   "source": []
  }
 ],
 "metadata": {
  "kernelspec": {
   "display_name": "Python 3 (ipykernel)",
   "language": "python",
   "name": "python3"
  },
  "language_info": {
   "codemirror_mode": {
    "name": "ipython",
    "version": 3
   },
   "file_extension": ".py",
   "mimetype": "text/x-python",
   "name": "python",
   "nbconvert_exporter": "python",
   "pygments_lexer": "ipython3",
   "version": "3.8.12"
  }
 },
 "nbformat": 4,
 "nbformat_minor": 5
}
