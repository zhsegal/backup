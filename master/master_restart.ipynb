{
 "cells": [
  {
   "cell_type": "code",
   "execution_count": 1,
   "metadata": {},
   "outputs": [],
   "source": [
    "import pandas as pd\n",
    "import statsmodels.api as sm\n",
    "from matplotlib import pyplot as plt\n",
    "import scipy.linalg as la\n",
    "import numpy as np\n",
    "import statsmodels.api as sm\n",
    "pd.options.display.max_rows = 99\n",
    "from sklearn import linear_model\n"
   ]
  },
  {
   "cell_type": "code",
   "execution_count": 2,
   "metadata": {},
   "outputs": [],
   "source": [
    "case=pd.read_csv('case.csv')\n",
    "control=pd.read_csv('control.csv')\n",
    "\n",
    "data=pd.concat([case,control],ignore_index=True)\n",
    "names=[f'pat_{id}' for id in range (200)]\n",
    "num_months=252\n",
    "data.id=list(np.repeat(names, num_months))"
   ]
  },
  {
   "cell_type": "code",
   "execution_count": 4,
   "metadata": {},
   "outputs": [],
   "source": [
    "pat=data.loc[data.id=='pat_0']"
   ]
  },
  {
   "cell_type": "code",
   "execution_count": 7,
   "metadata": {},
   "outputs": [],
   "source": [
    "pat.reset_index(drop=True, inplace=True)\n",
    "labs=pat.iloc[:,2:]\n",
    "labs.interpolate(method='linear',axis=0, inplace=True,limit_direction='both')   \n"
   ]
  },
  {
   "cell_type": "code",
   "execution_count": 15,
   "metadata": {},
   "outputs": [],
   "source": [
    "lab='hb'\n",
    "start=0\n",
    "end=6\n",
    "lab_low=14\n",
    "lab_high=17\n",
    "timeframe=labs[(labs.index >= start) & (labs.index <= end)]"
   ]
  },
  {
   "cell_type": "code",
   "execution_count": 13,
   "metadata": {},
   "outputs": [],
   "source": [
    "rel=timeframe[lab]"
   ]
  },
  {
   "cell_type": "code",
   "execution_count": 19,
   "metadata": {},
   "outputs": [],
   "source": [
    "def get_time_boolean(series, lab_low, lab_high):\n",
    "    mean=series.mean()\n",
    "    if mean >= lab_high:\n",
    "        return 'h'\n",
    "    elif mean <= lab_low:\n",
    "        return 'l'\n",
    "    else:\n",
    "        return 'n'"
   ]
  },
  {
   "cell_type": "code",
   "execution_count": 23,
   "metadata": {},
   "outputs": [
    {
     "data": {
      "text/plain": [
       "'l'"
      ]
     },
     "execution_count": 23,
     "metadata": {},
     "output_type": "execute_result"
    }
   ],
   "source": [
    "get_time_boolean(rel-66,lab_low,lab_high )"
   ]
  },
  {
   "cell_type": "code",
   "execution_count": null,
   "metadata": {},
   "outputs": [],
   "source": []
  }
 ],
 "metadata": {
  "kernelspec": {
   "display_name": "Python 3",
   "language": "python",
   "name": "python3"
  },
  "language_info": {
   "codemirror_mode": {
    "name": "ipython",
    "version": 3
   },
   "file_extension": ".py",
   "mimetype": "text/x-python",
   "name": "python",
   "nbconvert_exporter": "python",
   "pygments_lexer": "ipython3",
   "version": "3.8.5"
  }
 },
 "nbformat": 4,
 "nbformat_minor": 4
}
