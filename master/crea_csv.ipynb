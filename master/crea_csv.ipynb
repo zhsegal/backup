{
 "cells": [
  {
   "cell_type": "code",
   "execution_count": 1,
   "id": "7b48d8a7-c99a-4acb-9988-1e30f535cc3c",
   "metadata": {},
   "outputs": [],
   "source": [
    "import pandas as pd\n",
    "pd.set_option('display.max_rows', 500)\n",
    "pd.set_option('display.max_columns', 500)\n",
    "pd.set_option('display.width', 1000)\n",
    "import matplotlib.pyplot as plt\n",
    "import numpy as np\n",
    "import seaborn as sns\n",
    "from lifelines.utils import to_long_format\n",
    "from scipy.signal import savgol_filter\n",
    "from scipy import stats\n",
    "from scipy.stats import chi2_contingency\n",
    "from random import randrange\n",
    "import random, string\n"
   ]
  },
  {
   "cell_type": "code",
   "execution_count": 2,
   "id": "7ab54566-ac24-487f-bc63-356bd1ba3da7",
   "metadata": {},
   "outputs": [],
   "source": [
    "\n",
    "def randomword(length):\n",
    "   letters = string.ascii_lowercase\n",
    "   return ''.join(random.choice(letters) for i in range(length))"
   ]
  },
  {
   "cell_type": "code",
   "execution_count": 35,
   "id": "80de35b9-d508-4fab-80d9-65fd52c61a34",
   "metadata": {},
   "outputs": [],
   "source": [
    "data=pd.DataFrame(columns=(range(192)))\n",
    "data['id']=[randomword(7) for i in range (100)]\n",
    "data.set_index('id', drop=True, inplace=True)"
   ]
  },
  {
   "cell_type": "code",
   "execution_count": 36,
   "id": "25363fc9-b0ea-4f56-9172-dc41b3976bc7",
   "metadata": {},
   "outputs": [],
   "source": [
    "numbers=np.random.rand(20)\n",
    "for i in range(100):\n",
    "    leni=randrange(192)\n",
    "    new_row = np.random.rand(leni)\n",
    "    for j in range(leni):\n",
    "        data.iloc[i,j]=new_row[j]"
   ]
  },
  {
   "cell_type": "code",
   "execution_count": 38,
   "id": "3c040425-abe0-4c3a-acbc-9164108bb624",
   "metadata": {},
   "outputs": [],
   "source": [
    "data.to_csv('crea.csv')"
   ]
  },
  {
   "cell_type": "code",
   "execution_count": 23,
   "id": "dd4c0d3e-8809-4427-b9f0-e3862a0b5179",
   "metadata": {},
   "outputs": [
    {
     "name": "stdout",
     "output_type": "stream",
     "text": [
      "129\n"
     ]
    }
   ],
   "source": [
    "print()"
   ]
  },
  {
   "cell_type": "code",
   "execution_count": null,
   "id": "1c95bb5d-109c-47fd-a924-530605cad983",
   "metadata": {},
   "outputs": [],
   "source": []
  },
  {
   "cell_type": "code",
   "execution_count": null,
   "id": "5d9e6090-229e-4f2f-aabb-a5ec1456f2a5",
   "metadata": {},
   "outputs": [],
   "source": []
  }
 ],
 "metadata": {
  "kernelspec": {
   "display_name": "Python 3 (ipykernel)",
   "language": "python",
   "name": "python3"
  },
  "language_info": {
   "codemirror_mode": {
    "name": "ipython",
    "version": 3
   },
   "file_extension": ".py",
   "mimetype": "text/x-python",
   "name": "python",
   "nbconvert_exporter": "python",
   "pygments_lexer": "ipython3",
   "version": "3.8.12"
  }
 },
 "nbformat": 4,
 "nbformat_minor": 5
}
