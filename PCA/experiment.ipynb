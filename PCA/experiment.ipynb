{
 "cells": [
  {
   "cell_type": "code",
   "execution_count": 2,
   "metadata": {},
   "outputs": [],
   "source": [
    "import pandas as pd\n",
    "from sklearn.decomposition import PCA\n"
   ]
  },
  {
   "cell_type": "code",
   "execution_count": 3,
   "metadata": {},
   "outputs": [
    {
     "data": {
      "text/html": [
       "<div>\n",
       "<style scoped>\n",
       "    .dataframe tbody tr th:only-of-type {\n",
       "        vertical-align: middle;\n",
       "    }\n",
       "\n",
       "    .dataframe tbody tr th {\n",
       "        vertical-align: top;\n",
       "    }\n",
       "\n",
       "    .dataframe thead th {\n",
       "        text-align: right;\n",
       "    }\n",
       "</style>\n",
       "<table border=\"1\" class=\"dataframe\">\n",
       "  <thead>\n",
       "    <tr style=\"text-align: right;\">\n",
       "      <th></th>\n",
       "      <th>HB</th>\n",
       "      <th>WBC</th>\n",
       "      <th>NEUT</th>\n",
       "      <th>LYMPH</th>\n",
       "      <th>PLT</th>\n",
       "    </tr>\n",
       "    <tr>\n",
       "      <th>year</th>\n",
       "      <th></th>\n",
       "      <th></th>\n",
       "      <th></th>\n",
       "      <th></th>\n",
       "      <th></th>\n",
       "    </tr>\n",
       "  </thead>\n",
       "  <tbody>\n",
       "    <tr>\n",
       "      <th>2000</th>\n",
       "      <td>0.237965</td>\n",
       "      <td>0.635813</td>\n",
       "      <td>1.605210</td>\n",
       "      <td>0.447659</td>\n",
       "      <td>-1.181604</td>\n",
       "    </tr>\n",
       "    <tr>\n",
       "      <th>2001</th>\n",
       "      <td>0.747889</td>\n",
       "      <td>-0.261806</td>\n",
       "      <td>0.148687</td>\n",
       "      <td>0.060262</td>\n",
       "      <td>-0.154122</td>\n",
       "    </tr>\n",
       "    <tr>\n",
       "      <th>2002</th>\n",
       "      <td>0.691231</td>\n",
       "      <td>1.982242</td>\n",
       "      <td>1.787275</td>\n",
       "      <td>1.028754</td>\n",
       "      <td>-1.181604</td>\n",
       "    </tr>\n",
       "    <tr>\n",
       "      <th>2003</th>\n",
       "      <td>1.314472</td>\n",
       "      <td>0.561012</td>\n",
       "      <td>-0.230616</td>\n",
       "      <td>1.631372</td>\n",
       "      <td>-0.667863</td>\n",
       "    </tr>\n",
       "    <tr>\n",
       "      <th>2004</th>\n",
       "      <td>0.691231</td>\n",
       "      <td>0.486210</td>\n",
       "      <td>-0.336821</td>\n",
       "      <td>0.383093</td>\n",
       "      <td>0.873359</td>\n",
       "    </tr>\n",
       "    <tr>\n",
       "      <th>2005</th>\n",
       "      <td>0.294623</td>\n",
       "      <td>0.261806</td>\n",
       "      <td>-0.655435</td>\n",
       "      <td>0.286243</td>\n",
       "      <td>1.900841</td>\n",
       "    </tr>\n",
       "    <tr>\n",
       "      <th>2006</th>\n",
       "      <td>-0.215301</td>\n",
       "      <td>-0.561012</td>\n",
       "      <td>-0.336821</td>\n",
       "      <td>-1.123451</td>\n",
       "      <td>-0.667863</td>\n",
       "    </tr>\n",
       "    <tr>\n",
       "      <th>2007</th>\n",
       "      <td>-0.611909</td>\n",
       "      <td>-1.309028</td>\n",
       "      <td>-0.215444</td>\n",
       "      <td>-1.338672</td>\n",
       "      <td>-0.154122</td>\n",
       "    </tr>\n",
       "    <tr>\n",
       "      <th>2008</th>\n",
       "      <td>-1.235150</td>\n",
       "      <td>-1.309028</td>\n",
       "      <td>-1.550590</td>\n",
       "      <td>-1.338672</td>\n",
       "      <td>0.873359</td>\n",
       "    </tr>\n",
       "    <tr>\n",
       "      <th>2009</th>\n",
       "      <td>-1.915049</td>\n",
       "      <td>-0.486210</td>\n",
       "      <td>-0.215444</td>\n",
       "      <td>-0.036587</td>\n",
       "      <td>0.359619</td>\n",
       "    </tr>\n",
       "  </tbody>\n",
       "</table>\n",
       "</div>"
      ],
      "text/plain": [
       "            HB       WBC      NEUT     LYMPH       PLT\n",
       "year                                                  \n",
       "2000  0.237965  0.635813  1.605210  0.447659 -1.181604\n",
       "2001  0.747889 -0.261806  0.148687  0.060262 -0.154122\n",
       "2002  0.691231  1.982242  1.787275  1.028754 -1.181604\n",
       "2003  1.314472  0.561012 -0.230616  1.631372 -0.667863\n",
       "2004  0.691231  0.486210 -0.336821  0.383093  0.873359\n",
       "2005  0.294623  0.261806 -0.655435  0.286243  1.900841\n",
       "2006 -0.215301 -0.561012 -0.336821 -1.123451 -0.667863\n",
       "2007 -0.611909 -1.309028 -0.215444 -1.338672 -0.154122\n",
       "2008 -1.235150 -1.309028 -1.550590 -1.338672  0.873359\n",
       "2009 -1.915049 -0.486210 -0.215444 -0.036587  0.359619"
      ]
     },
     "execution_count": 3,
     "metadata": {},
     "output_type": "execute_result"
    }
   ],
   "source": [
    "data=pd.read_csv('example.csv')\n",
    "data.set_index('year', inplace=True)\n",
    "data=(data-data.mean())/data.std()\n",
    "data"
   ]
  },
  {
   "cell_type": "code",
   "execution_count": 4,
   "metadata": {},
   "outputs": [],
   "source": [
    "pca = PCA().fit(data)\n",
    "pc1 = pd.Series(index=data.columns, data=pca.components_[0])"
   ]
  },
  {
   "cell_type": "code",
   "execution_count": 5,
   "metadata": {},
   "outputs": [
    {
     "data": {
      "text/plain": [
       "<AxesSubplot:xlabel='year'>"
      ]
     },
     "execution_count": 5,
     "metadata": {},
     "output_type": "execute_result"
    },
    {
     "data": {
      "image/png": "[encoded data removed]",
      "text/plain": [
       "<Figure size 432x288 with 1 Axes>"
      ]
     },
     "metadata": {
      "needs_background": "light"
     },
     "output_type": "display_data"
    }
   ],
   "source": [
    "data.plot()"
   ]
  },
  {
   "cell_type": "code",
   "execution_count": 46,
   "metadata": {},
   "outputs": [
    {
     "data": {
      "text/plain": [
       "array([[ 0.42181241,  0.51568615,  0.46700487,  0.47117116, -0.34065565],\n",
       "       [ 0.38207012,  0.18243604, -0.42588523,  0.38649245,  0.69998919],\n",
       "       [-0.75654836,  0.37724572,  0.30504967,  0.23135547,  0.37247764],\n",
       "       [-0.30463086, -0.23723857, -0.45775348,  0.67870223, -0.42513873],\n",
       "       [-0.10455298,  0.70865254, -0.54583392, -0.33831828, -0.27292183]])"
      ]
     },
     "execution_count": 46,
     "metadata": {},
     "output_type": "execute_result"
    }
   ],
   "source": [
    "pca.components_"
   ]
  },
  {
   "cell_type": "code",
   "execution_count": 30,
   "metadata": {},
   "outputs": [
    {
     "data": {
      "text/plain": [
       "<AxesSubplot:title={'center':'First Principal Component of the S&P500'}>"
      ]
     },
     "execution_count": 30,
     "metadata": {},
     "output_type": "execute_result"
    },
    {
     "data": {
      "image/png": "[encoded data removed]",
      "text/plain": [
       "<Figure size 432x288 with 1 Axes>"
      ]
     },
     "metadata": {
      "needs_background": "light"
     },
     "output_type": "display_data"
    }
   ],
   "source": [
    "pc1.plot(xticks=[], title='First Principal Component of the S&P500')\n"
   ]
  },
  {
   "cell_type": "code",
   "execution_count": 31,
   "metadata": {},
   "outputs": [
    {
     "data": {
      "text/plain": [
       "<AxesSubplot:xlabel='year'>"
      ]
     },
     "execution_count": 31,
     "metadata": {},
     "output_type": "execute_result"
    },
    {
     "data": {
      "image/png": "[encoded data removed]",
      "text/plain": [
       "<Figure size 432x288 with 1 Axes>"
      ]
     },
     "metadata": {
      "needs_background": "light"
     },
     "output_type": "display_data"
    }
   ],
   "source": [
    "weights = abs(pc1)/sum(abs(pc1))\n",
    "myrs = (weights*rs).sum(1)\n",
    "myrs.cumsum().apply(np.exp).plot()"
   ]
  },
  {
   "cell_type": "code",
   "execution_count": 54,
   "metadata": {},
   "outputs": [
    {
     "data": {
      "text/plain": [
       "<AxesSubplot:xlabel='year'>"
      ]
     },
     "execution_count": 54,
     "metadata": {},
     "output_type": "execute_result"
    },
    {
     "data": {
      "image/png": "[encoded data removed]",
      "text/plain": [
       "<Figure size 432x288 with 1 Axes>"
      ]
     },
     "metadata": {
      "needs_background": "light"
     },
     "output_type": "display_data"
    }
   ],
   "source": [
    "myrs.plot()"
   ]
  },
  {
   "cell_type": "code",
   "execution_count": 49,
   "metadata": {},
   "outputs": [
    {
     "data": {
      "text/plain": [
       "year\n",
       "2000    0.000000\n",
       "2001   -0.053001\n",
       "2002    0.132149\n",
       "2003   -0.022697\n",
       "2004   -0.070432\n",
       "2005   -0.020669\n",
       "2006   -0.158763\n",
       "2007   -0.053049\n",
       "2008   -0.036292\n",
       "2009    0.137289\n",
       "dtype: float64"
      ]
     },
     "execution_count": 49,
     "metadata": {},
     "output_type": "execute_result"
    }
   ],
   "source": [
    "myrs"
   ]
  },
  {
   "cell_type": "code",
   "execution_count": 50,
   "metadata": {},
   "outputs": [
    {
     "data": {
      "text/html": [
       "<div>\n",
       "<style scoped>\n",
       "    .dataframe tbody tr th:only-of-type {\n",
       "        vertical-align: middle;\n",
       "    }\n",
       "\n",
       "    .dataframe tbody tr th {\n",
       "        vertical-align: top;\n",
       "    }\n",
       "\n",
       "    .dataframe thead th {\n",
       "        text-align: right;\n",
       "    }\n",
       "</style>\n",
       "<table border=\"1\" class=\"dataframe\">\n",
       "  <thead>\n",
       "    <tr style=\"text-align: right;\">\n",
       "      <th></th>\n",
       "      <th>HB</th>\n",
       "      <th>WBC</th>\n",
       "      <th>NEUT</th>\n",
       "      <th>LYMPH</th>\n",
       "      <th>PLT</th>\n",
       "    </tr>\n",
       "    <tr>\n",
       "      <th>year</th>\n",
       "      <th></th>\n",
       "      <th></th>\n",
       "      <th></th>\n",
       "      <th></th>\n",
       "      <th></th>\n",
       "    </tr>\n",
       "  </thead>\n",
       "  <tbody>\n",
       "    <tr>\n",
       "      <th>2000</th>\n",
       "      <td>NaN</td>\n",
       "      <td>NaN</td>\n",
       "      <td>NaN</td>\n",
       "      <td>NaN</td>\n",
       "      <td>NaN</td>\n",
       "    </tr>\n",
       "    <tr>\n",
       "      <th>2001</th>\n",
       "      <td>0.065478</td>\n",
       "      <td>-0.111226</td>\n",
       "      <td>-0.111226</td>\n",
       "      <td>-0.111226</td>\n",
       "      <td>0.048790</td>\n",
       "    </tr>\n",
       "    <tr>\n",
       "      <th>2002</th>\n",
       "      <td>-0.007067</td>\n",
       "      <td>0.257829</td>\n",
       "      <td>0.124298</td>\n",
       "      <td>0.257829</td>\n",
       "      <td>-0.048790</td>\n",
       "    </tr>\n",
       "    <tr>\n",
       "      <th>2003</th>\n",
       "      <td>0.075121</td>\n",
       "      <td>-0.155414</td>\n",
       "      <td>-0.155414</td>\n",
       "      <td>0.132268</td>\n",
       "      <td>0.024693</td>\n",
       "    </tr>\n",
       "    <tr>\n",
       "      <th>2004</th>\n",
       "      <td>-0.075121</td>\n",
       "      <td>-0.008889</td>\n",
       "      <td>-0.008889</td>\n",
       "      <td>-0.296571</td>\n",
       "      <td>0.070618</td>\n",
       "    </tr>\n",
       "    <tr>\n",
       "      <th>2005</th>\n",
       "      <td>-0.050920</td>\n",
       "      <td>-0.027151</td>\n",
       "      <td>-0.027151</td>\n",
       "      <td>-0.027151</td>\n",
       "      <td>0.044452</td>\n",
       "    </tr>\n",
       "    <tr>\n",
       "      <th>2006</th>\n",
       "      <td>-0.069526</td>\n",
       "      <td>-0.106380</td>\n",
       "      <td>0.027151</td>\n",
       "      <td>-0.511846</td>\n",
       "      <td>-0.115069</td>\n",
       "    </tr>\n",
       "    <tr>\n",
       "      <th>2007</th>\n",
       "      <td>-0.057629</td>\n",
       "      <td>-0.107631</td>\n",
       "      <td>0.010152</td>\n",
       "      <td>-0.107631</td>\n",
       "      <td>0.024098</td>\n",
       "    </tr>\n",
       "    <tr>\n",
       "      <th>2008</th>\n",
       "      <td>-0.097856</td>\n",
       "      <td>0.000000</td>\n",
       "      <td>-0.117783</td>\n",
       "      <td>0.000000</td>\n",
       "      <td>0.046520</td>\n",
       "    </tr>\n",
       "    <tr>\n",
       "      <th>2009</th>\n",
       "      <td>-0.118952</td>\n",
       "      <td>0.117783</td>\n",
       "      <td>0.117783</td>\n",
       "      <td>0.523248</td>\n",
       "      <td>-0.022990</td>\n",
       "    </tr>\n",
       "  </tbody>\n",
       "</table>\n",
       "</div>"
      ],
      "text/plain": [
       "            HB       WBC      NEUT     LYMPH       PLT\n",
       "year                                                  \n",
       "2000       NaN       NaN       NaN       NaN       NaN\n",
       "2001  0.065478 -0.111226 -0.111226 -0.111226  0.048790\n",
       "2002 -0.007067  0.257829  0.124298  0.257829 -0.048790\n",
       "2003  0.075121 -0.155414 -0.155414  0.132268  0.024693\n",
       "2004 -0.075121 -0.008889 -0.008889 -0.296571  0.070618\n",
       "2005 -0.050920 -0.027151 -0.027151 -0.027151  0.044452\n",
       "2006 -0.069526 -0.106380  0.027151 -0.511846 -0.115069\n",
       "2007 -0.057629 -0.107631  0.010152 -0.107631  0.024098\n",
       "2008 -0.097856  0.000000 -0.117783  0.000000  0.046520\n",
       "2009 -0.118952  0.117783  0.117783  0.523248 -0.022990"
      ]
     },
     "execution_count": 50,
     "metadata": {},
     "output_type": "execute_result"
    }
   ],
   "source": [
    "rs"
   ]
  },
  {
   "cell_type": "code",
   "execution_count": null,
   "metadata": {},
   "outputs": [],
   "source": []
  }
 ],
 "metadata": {
  "kernelspec": {
   "display_name": "Python 3",
   "language": "python",
   "name": "python3"
  },
  "language_info": {
   "codemirror_mode": {
    "name": "ipython",
    "version": 3
   },
   "file_extension": ".py",
   "mimetype": "text/x-python",
   "name": "python",
   "nbconvert_exporter": "python",
   "pygments_lexer": "ipython3",
   "version": "3.8.5"
  }
 },
 "nbformat": 4,
 "nbformat_minor": 4
}
