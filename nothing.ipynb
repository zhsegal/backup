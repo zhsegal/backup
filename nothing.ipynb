{
 "cells": [
  {
   "cell_type": "code",
   "execution_count": 3,
   "metadata": {
    "scrolled": true
   },
   "outputs": [],
   "source": [
    "import pandas as pd"
   ]
  },
  {
   "cell_type": "code",
   "execution_count": 4,
   "metadata": {},
   "outputs": [],
   "source": [
    "f = pd.read_sas('x.XPT', format='xport')\n"
   ]
  },
  {
   "cell_type": "code",
   "execution_count": 6,
   "metadata": {},
   "outputs": [
    {
     "data": {
      "text/plain": [
       "Index(['SEQN', 'LBXWBCSI', 'LBXLYPCT', 'LBXMOPCT', 'LBXNEPCT', 'LBXEOPCT',\n",
       "       'LBXBAPCT', 'LBDLYMNO', 'LBDMONO', 'LBDNENO', 'LBDEONO', 'LBDBANO',\n",
       "       'LBXRBCSI', 'LBXHGB', 'LBXHCT', 'LBXMCVSI', 'LBXMCHSI', 'LBXMC',\n",
       "       'LBXRDW', 'LBXPLTSI', 'LBXMPSI'],\n",
       "      dtype='object')"
      ]
     },
     "execution_count": 6,
     "metadata": {},
     "output_type": "execute_result"
    }
   ],
   "source": [
    "f.columns"
   ]
  },
  {
   "cell_type": "code",
   "execution_count": 8,
   "metadata": {},
   "outputs": [
    {
     "data": {
      "text/plain": [
       "SEQN        73559.00\n",
       "LBXWBCSI        7.20\n",
       "LBXLYPCT       13.90\n",
       "LBXMOPCT       11.50\n",
       "LBXNEPCT       68.20\n",
       "LBXEOPCT        5.60\n",
       "LBXBAPCT        0.90\n",
       "LBDLYMNO        1.00\n",
       "LBDMONO         0.80\n",
       "LBDNENO         4.90\n",
       "LBDEONO         0.40\n",
       "LBDBANO         0.10\n",
       "LBXRBCSI        5.53\n",
       "LBXHGB         17.20\n",
       "LBXHCT         49.90\n",
       "LBXMCVSI       90.50\n",
       "LBXMCHSI       31.10\n",
       "LBXMC          34.30\n",
       "LBXRDW         13.40\n",
       "LBXPLTSI      237.00\n",
       "LBXMPSI         9.30\n",
       "Name: 2, dtype: float64"
      ]
     },
     "execution_count": 8,
     "metadata": {},
     "output_type": "execute_result"
    }
   ],
   "source": [
    "f.iloc[2]"
   ]
  },
  {
   "cell_type": "code",
   "execution_count": null,
   "metadata": {},
   "outputs": [],
   "source": []
  }
 ],
 "metadata": {
  "kernelspec": {
   "display_name": "Python 3",
   "language": "python",
   "name": "python3"
  },
  "language_info": {
   "codemirror_mode": {
    "name": "ipython",
    "version": 3
   },
   "file_extension": ".py",
   "mimetype": "text/x-python",
   "name": "python",
   "nbconvert_exporter": "python",
   "pygments_lexer": "ipython3",
   "version": "3.8.5"
  }
 },
 "nbformat": 4,
 "nbformat_minor": 4
}
