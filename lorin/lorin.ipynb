{
 "cells": [
  {
   "cell_type": "code",
   "execution_count": 23,
   "id": "20dab58a-5c29-4627-9dde-32156fdf3792",
   "metadata": {},
   "outputs": [],
   "source": [
    "import pandas as pd\n",
    "pd.set_option('display.max_rows', 500)\n",
    "pd.set_option('display.max_columns', 500)\n",
    "pd.set_option('display.width', 1000)\n",
    "import matplotlib.pyplot as plt\n",
    "import numpy as np"
   ]
  },
  {
   "cell_type": "code",
   "execution_count": 12,
   "id": "d0d467cb-6bff-4e23-89d2-f150b58a5b79",
   "metadata": {},
   "outputs": [],
   "source": [
    "data=pd.read_excel('lorin.xlsx',sheet_name='Sheet0')"
   ]
  },
  {
   "cell_type": "code",
   "execution_count": 55,
   "id": "1e43e93f-c7b6-4058-b3ae-787fd69dd95e",
   "metadata": {},
   "outputs": [],
   "source": [
    "data.head()\n",
    "dass_cols=[col for col in data.columns if col.startswith('DASS')]\n",
    "data['id']=range((data.shape[0]))"
   ]
  },
  {
   "cell_type": "code",
   "execution_count": 56,
   "id": "bfb6c079-90e7-449e-8c03-d93af5eb4a4f",
   "metadata": {},
   "outputs": [
    {
     "name": "stderr",
     "output_type": "stream",
     "text": [
      "C:\\Users\\577C~1\\AppData\\Local\\Temp/ipykernel_16216/277226886.py:4: SettingWithCopyWarning: \n",
      "A value is trying to be set on a copy of a slice from a DataFrame.\n",
      "Try using .loc[row_indexer,col_indexer] = value instead\n",
      "\n",
      "See the caveats in the documentation: https://pandas.pydata.org/pandas-docs/stable/user_guide/indexing.html#returning-a-view-versus-a-copy\n",
      "  gen['dass']=data[dass_cols].sum(axis=1)\n"
     ]
    }
   ],
   "source": [
    "data['group'] =np.where(data.id<80, 0, 1)\n",
    "general=['id','group']\n",
    "gen=data[general]\n",
    "gen['dass']=data[dass_cols].sum(axis=1)"
   ]
  },
  {
   "cell_type": "code",
   "execution_count": 57,
   "id": "f0f6a50c-981f-467c-93c9-f2dd96d4fb98",
   "metadata": {},
   "outputs": [
    {
     "name": "stderr",
     "output_type": "stream",
     "text": [
      "C:\\JupyterLab\\resources\\jlab_server\\lib\\site-packages\\pandas\\core\\generic.py:6619: SettingWithCopyWarning: \n",
      "A value is trying to be set on a copy of a slice from a DataFrame\n",
      "\n",
      "See the caveats in the documentation: https://pandas.pydata.org/pandas-docs/stable/user_guide/indexing.html#returning-a-view-versus-a-copy\n",
      "  return self._update_inplace(result)\n"
     ]
    },
    {
     "data": {
      "image/png": "[encoded data removed]",
      "text/plain": [
       "<Figure size 432x288 with 1 Axes>"
      ]
     },
     "metadata": {
      "needs_background": "light"
     },
     "output_type": "display_data"
    }
   ],
   "source": [
    "gen['group'].replace({0:'case',1:'control'},inplace=True)\n",
    "gen[['dass','group']].boxplot(by='group')\n",
    "plt.tight_layout()\n",
    "plt.show()"
   ]
  },
  {
   "cell_type": "code",
   "execution_count": 54,
   "id": "c26dd779-442e-4a9b-a86a-63ae53f607a2",
   "metadata": {},
   "outputs": [],
   "source": [
    "dass=data[rel]"
   ]
  },
  {
   "cell_type": "code",
   "execution_count": 35,
   "id": "d14fbb2d-2f39-4d7f-a9d4-753535e070a5",
   "metadata": {},
   "outputs": [
    {
     "data": {
      "text/plain": [
       "0      21.0\n",
       "1      36.0\n",
       "2      27.0\n",
       "3      37.0\n",
       "4      21.0\n",
       "5      51.0\n",
       "6      32.0\n",
       "7      21.0\n",
       "8      26.0\n",
       "9      42.0\n",
       "10     44.0\n",
       "11     31.0\n",
       "12     21.0\n",
       "13     27.0\n",
       "14     62.0\n",
       "15     44.0\n",
       "16     26.0\n",
       "17     23.0\n",
       "18     28.0\n",
       "19     46.0\n",
       "20     58.0\n",
       "21     21.0\n",
       "22     29.0\n",
       "23     55.0\n",
       "24     36.0\n",
       "25     29.0\n",
       "26     28.0\n",
       "27     21.0\n",
       "28     42.0\n",
       "29     22.0\n",
       "30     42.0\n",
       "31     51.0\n",
       "32     38.0\n",
       "33     32.0\n",
       "34     29.0\n",
       "35     37.0\n",
       "36     84.0\n",
       "37     23.0\n",
       "38     21.0\n",
       "39     42.0\n",
       "40     21.0\n",
       "41     62.0\n",
       "42     42.0\n",
       "43     25.0\n",
       "44     40.0\n",
       "45     30.0\n",
       "46     23.0\n",
       "47     26.0\n",
       "48     40.0\n",
       "49     63.0\n",
       "50     51.0\n",
       "51     23.0\n",
       "52     29.0\n",
       "53     33.0\n",
       "54     68.0\n",
       "55     70.0\n",
       "56     67.0\n",
       "57     39.0\n",
       "58     23.0\n",
       "59     45.0\n",
       "60     28.0\n",
       "61     21.0\n",
       "62     21.0\n",
       "63     29.0\n",
       "64     21.0\n",
       "65     33.0\n",
       "66     27.0\n",
       "67     53.0\n",
       "68     51.0\n",
       "69     27.0\n",
       "70     27.0\n",
       "71     24.0\n",
       "72     28.0\n",
       "73     35.0\n",
       "74     33.0\n",
       "75     48.0\n",
       "76      0.0\n",
       "77     44.0\n",
       "78     22.0\n",
       "79     21.0\n",
       "80     42.0\n",
       "81     20.0\n",
       "82     42.0\n",
       "83     40.0\n",
       "84     24.0\n",
       "85     28.0\n",
       "86     27.0\n",
       "87     30.0\n",
       "88     28.0\n",
       "89     40.0\n",
       "90     27.0\n",
       "91     42.0\n",
       "92     49.0\n",
       "93     51.0\n",
       "94     42.0\n",
       "95     33.0\n",
       "96     26.0\n",
       "97     29.0\n",
       "98     22.0\n",
       "99     26.0\n",
       "100    20.0\n",
       "101    35.0\n",
       "102    33.0\n",
       "103    24.0\n",
       "104    45.0\n",
       "105    23.0\n",
       "106    25.0\n",
       "107    20.0\n",
       "108    24.0\n",
       "109    51.0\n",
       "110    26.0\n",
       "111    20.0\n",
       "112    26.0\n",
       "113    30.0\n",
       "114    32.0\n",
       "115    27.0\n",
       "116    38.0\n",
       "117    34.0\n",
       "118    44.0\n",
       "119    29.0\n",
       "120    28.0\n",
       "121    26.0\n",
       "122    25.0\n",
       "123    36.0\n",
       "124    58.0\n",
       "125    31.0\n",
       "126    33.0\n",
       "127    33.0\n",
       "128    38.0\n",
       "129    38.0\n",
       "130    29.0\n",
       "131    23.0\n",
       "132    42.0\n",
       "133    28.0\n",
       "134    76.0\n",
       "135    31.0\n",
       "136    43.0\n",
       "137    59.0\n",
       "138    23.0\n",
       "139    20.0\n",
       "140    25.0\n",
       "141    44.0\n",
       "142    31.0\n",
       "143    20.0\n",
       "144    21.0\n",
       "145    29.0\n",
       "146    26.0\n",
       "147    48.0\n",
       "148    49.0\n",
       "149    22.0\n",
       "150    34.0\n",
       "151    66.0\n",
       "152    28.0\n",
       "153    20.0\n",
       "154    22.0\n",
       "155    38.0\n",
       "156    49.0\n",
       "157    27.0\n",
       "158    27.0\n",
       "159    20.0\n",
       "dtype: float64"
      ]
     },
     "execution_count": 35,
     "metadata": {},
     "output_type": "execute_result"
    }
   ],
   "source": []
  },
  {
   "cell_type": "code",
   "execution_count": null,
   "id": "8c8614eb-9b16-408f-a038-8a382ebdf549",
   "metadata": {},
   "outputs": [],
   "source": []
  }
 ],
 "metadata": {
  "kernelspec": {
   "display_name": "Python 3 (ipykernel)",
   "language": "python",
   "name": "python3"
  },
  "language_info": {
   "codemirror_mode": {
    "name": "ipython",
    "version": 3
   },
   "file_extension": ".py",
   "mimetype": "text/x-python",
   "name": "python",
   "nbconvert_exporter": "python",
   "pygments_lexer": "ipython3",
   "version": "3.8.12"
  }
 },
 "nbformat": 4,
 "nbformat_minor": 5
}
