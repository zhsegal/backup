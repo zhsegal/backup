{
 "cells": [
  {
   "cell_type": "code",
   "execution_count": 1,
   "id": "a3115548-9a05-4d66-bdb9-02eef5103eba",
   "metadata": {},
   "outputs": [],
   "source": [
    "import pandas as pd"
   ]
  },
  {
   "cell_type": "code",
   "execution_count": 2,
   "id": "e33f67f6-2aff-480e-baf3-48d03999aa66",
   "metadata": {},
   "outputs": [],
   "source": [
    "data=pd.read_csv('ci.csv', header=None)[:-1]"
   ]
  },
  {
   "cell_type": "code",
   "execution_count": 3,
   "id": "d5ee4e81-6a3d-4225-bcfb-4d63542c4b8e",
   "metadata": {},
   "outputs": [],
   "source": [
    "data.columns=['ci','d']"
   ]
  },
  {
   "cell_type": "code",
   "execution_count": 4,
   "id": "4c3973ec-98a3-4866-805d-c5f034b6fe84",
   "metadata": {
    "tags": []
   },
   "outputs": [],
   "source": [
    "def do(tt):\n",
    "    tt=tt.strip(' ')\n",
    "    a=float(tt.split('(')[0])\n",
    "    b=float(tt.split('(')[1].strip('(').strip(')'))\n",
    "    ci_l=round(a-1.96*(b),2)\n",
    "    ci_h=round(a+1.96*(b),2)\n",
    "    return f'{a} [{ci_l} - {ci_h}]'"
   ]
  },
  {
   "cell_type": "code",
   "execution_count": 5,
   "id": "4e5e93a9-7160-4146-b6bd-6e8894da17ee",
   "metadata": {},
   "outputs": [],
   "source": [
    "data['final']=[do(tt) for tt in data.ci]"
   ]
  },
  {
   "cell_type": "code",
   "execution_count": 7,
   "id": "53f7b732-e773-4550-9ad0-e2cd4fe6e1a4",
   "metadata": {},
   "outputs": [],
   "source": [
    "data.to_csv('ci_final.csv')"
   ]
  },
  {
   "cell_type": "code",
   "execution_count": 71,
   "id": "7008ff1f-eb11-42dd-9590-b492ba78a9c5",
   "metadata": {},
   "outputs": [],
   "source": [
    "tt=data.ci[1]"
   ]
  },
  {
   "cell_type": "code",
   "execution_count": 72,
   "id": "d3c32dfc-f180-4f4f-a903-4fdc0fdb5f3f",
   "metadata": {},
   "outputs": [
    {
     "data": {
      "text/plain": [
       "['-0.37(1.16)']"
      ]
     },
     "execution_count": 72,
     "metadata": {},
     "output_type": "execute_result"
    }
   ],
   "source": [
    "(tt.split(' '))"
   ]
  },
  {
   "cell_type": "code",
   "execution_count": 63,
   "id": "b07c22eb-fc29-4437-9738-4172590e3f2d",
   "metadata": {},
   "outputs": [
    {
     "name": "stdout",
     "output_type": "stream",
     "text": [
      "-0.37 (1.16)\n"
     ]
    },
    {
     "data": {
      "text/plain": [
       "'-0.37 [-2.64 - 1.9]'"
      ]
     },
     "execution_count": 63,
     "metadata": {},
     "output_type": "execute_result"
    }
   ],
   "source": [
    "do (tt)"
   ]
  },
  {
   "cell_type": "code",
   "execution_count": null,
   "id": "e930d7ed-f517-4ee1-bc82-1f6cf7aa5fd2",
   "metadata": {},
   "outputs": [],
   "source": []
  },
  {
   "cell_type": "code",
   "execution_count": null,
   "id": "a53e4da7-229f-47eb-b1e9-39f0fb24a765",
   "metadata": {},
   "outputs": [],
   "source": []
  }
 ],
 "metadata": {
  "kernelspec": {
   "display_name": "Python 3 (ipykernel)",
   "language": "python",
   "name": "python3"
  },
  "language_info": {
   "codemirror_mode": {
    "name": "ipython",
    "version": 3
   },
   "file_extension": ".py",
   "mimetype": "text/x-python",
   "name": "python",
   "nbconvert_exporter": "python",
   "pygments_lexer": "ipython3",
   "version": "3.8.12"
  }
 },
 "nbformat": 4,
 "nbformat_minor": 5
}
