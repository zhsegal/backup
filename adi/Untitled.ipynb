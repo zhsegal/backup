{
 "cells": [
  {
   "cell_type": "code",
   "execution_count": 10,
   "id": "040a3d68-0168-430d-8e9c-a2b461be0d97",
   "metadata": {},
   "outputs": [],
   "source": [
    "import pandas as pd\n",
    "pd.set_option('display.max_rows', 500)\n",
    "pd.set_option('display.max_columns', 500)\n",
    "pd.set_option('display.width', 1000)\n",
    "import matplotlib.pyplot as plt"
   ]
  },
  {
   "cell_type": "code",
   "execution_count": 11,
   "id": "9df4cf6d-b222-43b5-802e-871b9bc1fb6b",
   "metadata": {},
   "outputs": [],
   "source": [
    "data=pd.read_excel('lactate.xlsx')"
   ]
  },
  {
   "cell_type": "code",
   "execution_count": 13,
   "id": "906c1fd2-207a-40f7-a2d6-9f87d5f7e899",
   "metadata": {},
   "outputs": [
    {
     "data": {
      "image/png": "[encoded data removed]",
      "text/plain": [
       "<Figure size 432x288 with 1 Axes>"
      ]
     },
     "metadata": {
      "needs_background": "light"
     },
     "output_type": "display_data"
    }
   ],
   "source": [
    "data[['torsion','LACTATE']].boxplot(by='torsion')\n",
    "plt.tight_layout()\n",
    "plt.show()"
   ]
  },
  {
   "cell_type": "code",
   "execution_count": 16,
   "id": "e126fc7f-a5b4-4874-8d54-3eb9c46b078f",
   "metadata": {},
   "outputs": [
    {
     "name": "stdout",
     "output_type": "stream",
     "text": [
      " ADI THE PVAL IS 0.139\n"
     ]
    }
   ],
   "source": [
    "from scipy import stats\n",
    "case=data.loc[data.torsion==1]['LACTATE']\n",
    "control=data.loc[data.torsion==0]['LACTATE']\n",
    "\n",
    "pval=stats.ttest_ind(case,control)[1].round(3)\n",
    "print (f' ADI THE PVAL IS {pval}')"
   ]
  },
  {
   "cell_type": "code",
   "execution_count": null,
   "id": "7d92e5a9-4a21-4315-a2dd-a8eeb0a92b41",
   "metadata": {},
   "outputs": [],
   "source": [
    "data.replace({\n",
    "    '\n",
    "    "
   ]
  }
 ],
 "metadata": {
  "kernelspec": {
   "display_name": "Python 3 (ipykernel)",
   "language": "python",
   "name": "python3"
  },
  "language_info": {
   "codemirror_mode": {
    "name": "ipython",
    "version": 3
   },
   "file_extension": ".py",
   "mimetype": "text/x-python",
   "name": "python",
   "nbconvert_exporter": "python",
   "pygments_lexer": "ipython3",
   "version": "3.8.12"
  }
 },
 "nbformat": 4,
 "nbformat_minor": 5
}
