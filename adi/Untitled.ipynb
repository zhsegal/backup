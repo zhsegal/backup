{
 "cells": [
  {
   "cell_type": "code",
   "execution_count": 21,
   "id": "040a3d68-0168-430d-8e9c-a2b461be0d97",
   "metadata": {},
   "outputs": [],
   "source": [
    "import pandas as pd\n",
    "pd.set_option('display.max_rows', 500)\n",
    "pd.set_option('display.max_columns', 500)\n",
    "pd.set_option('display.width', 1000)\n",
    "import matplotlib.pyplot as plt"
   ]
  },
  {
   "cell_type": "code",
   "execution_count": 22,
   "id": "9df4cf6d-b222-43b5-802e-871b9bc1fb6b",
   "metadata": {},
   "outputs": [],
   "source": [
    "data=pd.read_csv('lactate.csv',encoding='utf-8')"
   ]
  },
  {
   "cell_type": "code",
   "execution_count": 23,
   "id": "d37d27c1-58f8-455f-a2f4-3fedcc4e4659",
   "metadata": {},
   "outputs": [
    {
     "data": {
      "text/html": [
       "<div>\n",
       "<style scoped>\n",
       "    .dataframe tbody tr th:only-of-type {\n",
       "        vertical-align: middle;\n",
       "    }\n",
       "\n",
       "    .dataframe tbody tr th {\n",
       "        vertical-align: top;\n",
       "    }\n",
       "\n",
       "    .dataframe thead th {\n",
       "        text-align: right;\n",
       "    }\n",
       "</style>\n",
       "<table border=\"1\" class=\"dataframe\">\n",
       "  <thead>\n",
       "    <tr style=\"text-align: right;\">\n",
       "      <th></th>\n",
       "      <th>id</th>\n",
       "      <th>lactate</th>\n",
       "      <th>date</th>\n",
       "      <th>PH</th>\n",
       "      <th>PCO2</th>\n",
       "      <th>ischemic</th>\n",
       "      <th>torsion</th>\n",
       "    </tr>\n",
       "  </thead>\n",
       "  <tbody>\n",
       "    <tr>\n",
       "      <th>0</th>\n",
       "      <td>40227639</td>\n",
       "      <td>2.44</td>\n",
       "      <td>9.11.217</td>\n",
       "      <td>7.346</td>\n",
       "      <td>46.4</td>\n",
       "      <td>NaN</td>\n",
       "      <td>0</td>\n",
       "    </tr>\n",
       "    <tr>\n",
       "      <th>1</th>\n",
       "      <td>327382313</td>\n",
       "      <td>1.10</td>\n",
       "      <td>?</td>\n",
       "      <td>7.383</td>\n",
       "      <td>34.9</td>\n",
       "      <td>NaN</td>\n",
       "      <td>0</td>\n",
       "    </tr>\n",
       "    <tr>\n",
       "      <th>2</th>\n",
       "      <td>40054652</td>\n",
       "      <td>1.89</td>\n",
       "      <td>?</td>\n",
       "      <td>7.457</td>\n",
       "      <td>29.4</td>\n",
       "      <td>1.0</td>\n",
       "      <td>1</td>\n",
       "    </tr>\n",
       "    <tr>\n",
       "      <th>3</th>\n",
       "      <td>300160298</td>\n",
       "      <td>1.33</td>\n",
       "      <td>?</td>\n",
       "      <td>7.472</td>\n",
       "      <td>31.3</td>\n",
       "      <td>NaN</td>\n",
       "      <td>0</td>\n",
       "    </tr>\n",
       "    <tr>\n",
       "      <th>4</th>\n",
       "      <td>323916908</td>\n",
       "      <td>1.91</td>\n",
       "      <td>6.12.2017</td>\n",
       "      <td>7.375</td>\n",
       "      <td>39.3</td>\n",
       "      <td>NaN</td>\n",
       "      <td>0</td>\n",
       "    </tr>\n",
       "  </tbody>\n",
       "</table>\n",
       "</div>"
      ],
      "text/plain": [
       "          id  lactate       date     PH  PCO2  ischemic  torsion\n",
       "0   40227639     2.44   9.11.217  7.346  46.4       NaN        0\n",
       "1  327382313     1.10          ?  7.383  34.9       NaN        0\n",
       "2   40054652     1.89          ?  7.457  29.4       1.0        1\n",
       "3  300160298     1.33          ?  7.472  31.3       NaN        0\n",
       "4  323916908     1.91  6.12.2017  7.375  39.3       NaN        0"
      ]
     },
     "execution_count": 23,
     "metadata": {},
     "output_type": "execute_result"
    }
   ],
   "source": [
    "data.head()"
   ]
  },
  {
   "cell_type": "code",
   "execution_count": 24,
   "id": "906c1fd2-207a-40f7-a2d6-9f87d5f7e899",
   "metadata": {},
   "outputs": [
    {
     "data": {
      "image/png": "[encoded data removed]",
      "text/plain": [
       "<Figure size 432x288 with 1 Axes>"
      ]
     },
     "metadata": {
      "needs_background": "light"
     },
     "output_type": "display_data"
    }
   ],
   "source": [
    "data[['torsion','lactate']].boxplot(by='torsion')\n",
    "plt.tight_layout()\n",
    "plt.show()"
   ]
  },
  {
   "cell_type": "code",
   "execution_count": 25,
   "id": "e126fc7f-a5b4-4874-8d54-3eb9c46b078f",
   "metadata": {},
   "outputs": [
    {
     "name": "stdout",
     "output_type": "stream",
     "text": [
      " ADI THE PVAL IS 0.171\n"
     ]
    }
   ],
   "source": [
    "from scipy import stats\n",
    "case=data.loc[data.torsion==1]['lactate']\n",
    "control=data.loc[data.torsion==0]['lactate']\n",
    "\n",
    "pval=stats.ttest_ind(case,control)[1].round(3)\n",
    "print (f' ADI THE PVAL IS {pval}')"
   ]
  },
  {
   "cell_type": "code",
   "execution_count": 26,
   "id": "7d92e5a9-4a21-4315-a2dd-a8eeb0a92b41",
   "metadata": {},
   "outputs": [],
   "source": [
    "pval=stats.ttest_ind(case,control)[1].round(3)\n"
   ]
  },
  {
   "cell_type": "code",
   "execution_count": 27,
   "id": "7f8fcc69-9dfd-4f26-995d-476e5cb91e72",
   "metadata": {},
   "outputs": [
    {
     "data": {
      "text/plain": [
       "Ttest_indResult(statistic=1.3970011506614626, pvalue=0.17120833191520984)"
      ]
     },
     "execution_count": 27,
     "metadata": {},
     "output_type": "execute_result"
    }
   ],
   "source": [
    "stats.ttest_ind(case,control)"
   ]
  },
  {
   "cell_type": "code",
   "execution_count": 19,
   "id": "af114c7d-114c-4e33-b5b7-bbcf174dde03",
   "metadata": {},
   "outputs": [
    {
     "data": {
      "text/plain": [
       "2     1.89\n",
       "7     2.00\n",
       "8     3.54\n",
       "10    1.69\n",
       "12    2.08\n",
       "13    2.31\n",
       "16    0.91\n",
       "20    1.13\n",
       "21    1.46\n",
       "22    0.81\n",
       "24    1.44\n",
       "25    1.42\n",
       "26    3.63\n",
       "27    1.23\n",
       "28    1.73\n",
       "29    1.04\n",
       "30    1.59\n",
       "31    0.87\n",
       "32    0.70\n",
       "36    1.82\n",
       "37    2.96\n",
       "Name: lactate, dtype: float64"
      ]
     },
     "execution_count": 19,
     "metadata": {},
     "output_type": "execute_result"
    }
   ],
   "source": [
    "case"
   ]
  },
  {
   "cell_type": "code",
   "execution_count": 20,
   "id": "93d26caa-e4db-47df-86e8-463bb643d685",
   "metadata": {},
   "outputs": [
    {
     "data": {
      "text/plain": [
       "0     2.44\n",
       "1     1.10\n",
       "3     1.33\n",
       "4     1.91\n",
       "5     1.24\n",
       "6      NaN\n",
       "9     0.93\n",
       "11    0.84\n",
       "14    1.01\n",
       "15    1.45\n",
       "17    1.54\n",
       "18    1.45\n",
       "19    1.54\n",
       "23    1.86\n",
       "33    1.30\n",
       "34    1.22\n",
       "35    1.43\n",
       "Name: lactate, dtype: float64"
      ]
     },
     "execution_count": 20,
     "metadata": {},
     "output_type": "execute_result"
    }
   ],
   "source": [
    "control"
   ]
  },
  {
   "cell_type": "code",
   "execution_count": null,
   "id": "fd544158-8fa8-4a0f-a839-0ca8544dd734",
   "metadata": {},
   "outputs": [],
   "source": []
  }
 ],
 "metadata": {
  "kernelspec": {
   "display_name": "Python 3 (ipykernel)",
   "language": "python",
   "name": "python3"
  },
  "language_info": {
   "codemirror_mode": {
    "name": "ipython",
    "version": 3
   },
   "file_extension": ".py",
   "mimetype": "text/x-python",
   "name": "python",
   "nbconvert_exporter": "python",
   "pygments_lexer": "ipython3",
   "version": "3.8.12"
  }
 },
 "nbformat": 4,
 "nbformat_minor": 5
}
